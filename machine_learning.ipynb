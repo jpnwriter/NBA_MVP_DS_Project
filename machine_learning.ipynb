{
 "cells": [
  {
   "cell_type": "code",
   "execution_count": 1,
   "id": "37deab2a-8beb-46d9-864e-a80122cd9b5d",
   "metadata": {
    "tags": []
   },
   "outputs": [],
   "source": [
    "import pandas as pd"
   ]
  },
  {
   "cell_type": "code",
   "execution_count": 2,
   "id": "681db080-a924-44ef-afb2-f23a8d26e6a3",
   "metadata": {
    "tags": []
   },
   "outputs": [],
   "source": [
    "stats = pd.read_csv(\"player_mvp_stats.csv\")"
   ]
  },
  {
   "cell_type": "code",
   "execution_count": 4,
   "id": "cd8e192b-7540-4061-a483-cc3f7e6f7288",
   "metadata": {
    "tags": []
   },
   "outputs": [],
   "source": [
    "#data cleaning\n",
    "del stats[\"Unnamed: 0\"]"
   ]
  },
  {
   "cell_type": "code",
   "execution_count": 6,
   "id": "3eade9f8-706b-4869-8058-895273f3a31d",
   "metadata": {
    "tags": []
   },
   "outputs": [
    {
     "data": {
      "text/plain": [
       "Player        0\n",
       "Pos           0\n",
       "Age           0\n",
       "Tm            0\n",
       "G             0\n",
       "GS            0\n",
       "MP            0\n",
       "FG            0\n",
       "FGA           0\n",
       "FG%          59\n",
       "3P            0\n",
       "3PA           0\n",
       "3P%        2086\n",
       "2P            0\n",
       "2PA           0\n",
       "2P%         100\n",
       "eFG%         59\n",
       "FT            0\n",
       "FTA           0\n",
       "FT%         521\n",
       "ORB           0\n",
       "DRB           0\n",
       "TRB           0\n",
       "AST           0\n",
       "STL           0\n",
       "BLK           0\n",
       "TOV           0\n",
       "PF            0\n",
       "PTS           0\n",
       "Year          0\n",
       "Pts Won       0\n",
       "Pts Max       0\n",
       "Share         0\n",
       "Team          0\n",
       "W             0\n",
       "L             0\n",
       "W/L%          0\n",
       "GB            0\n",
       "PS/G          0\n",
       "PA/G          0\n",
       "SRS           0\n",
       "dtype: int64"
      ]
     },
     "execution_count": 6,
     "metadata": {},
     "output_type": "execute_result"
    }
   ],
   "source": [
    "pd.isnull(stats).sum()"
   ]
  },
  {
   "cell_type": "code",
   "execution_count": 8,
   "id": "08a4f938-a271-4274-aca7-3ac1d4a1aea4",
   "metadata": {
    "tags": []
   },
   "outputs": [
    {
     "data": {
      "text/html": [
       "<div>\n",
       "<style scoped>\n",
       "    .dataframe tbody tr th:only-of-type {\n",
       "        vertical-align: middle;\n",
       "    }\n",
       "\n",
       "    .dataframe tbody tr th {\n",
       "        vertical-align: top;\n",
       "    }\n",
       "\n",
       "    .dataframe thead th {\n",
       "        text-align: right;\n",
       "    }\n",
       "</style>\n",
       "<table border=\"1\" class=\"dataframe\">\n",
       "  <thead>\n",
       "    <tr style=\"text-align: right;\">\n",
       "      <th></th>\n",
       "      <th>Player</th>\n",
       "      <th>3PA</th>\n",
       "    </tr>\n",
       "  </thead>\n",
       "  <tbody>\n",
       "    <tr>\n",
       "      <th>2</th>\n",
       "      <td>Elden Campbell</td>\n",
       "      <td>0.0</td>\n",
       "    </tr>\n",
       "    <tr>\n",
       "      <th>3</th>\n",
       "      <td>Irving Thomas</td>\n",
       "      <td>0.0</td>\n",
       "    </tr>\n",
       "    <tr>\n",
       "      <th>18</th>\n",
       "      <td>Jack Haley</td>\n",
       "      <td>0.0</td>\n",
       "    </tr>\n",
       "    <tr>\n",
       "      <th>20</th>\n",
       "      <td>Keith Owens</td>\n",
       "      <td>0.0</td>\n",
       "    </tr>\n",
       "    <tr>\n",
       "      <th>30</th>\n",
       "      <td>Benoit Benjamin</td>\n",
       "      <td>0.0</td>\n",
       "    </tr>\n",
       "    <tr>\n",
       "      <th>...</th>\n",
       "      <td>...</td>\n",
       "      <td>...</td>\n",
       "    </tr>\n",
       "    <tr>\n",
       "      <th>14666</th>\n",
       "      <td>Evan Eschmeyer</td>\n",
       "      <td>0.0</td>\n",
       "    </tr>\n",
       "    <tr>\n",
       "      <th>14667</th>\n",
       "      <td>Gheorghe Mureșan</td>\n",
       "      <td>0.0</td>\n",
       "    </tr>\n",
       "    <tr>\n",
       "      <th>14669</th>\n",
       "      <td>Jim McIlvaine</td>\n",
       "      <td>0.0</td>\n",
       "    </tr>\n",
       "    <tr>\n",
       "      <th>14675</th>\n",
       "      <td>Mark Hendrickson</td>\n",
       "      <td>0.0</td>\n",
       "    </tr>\n",
       "    <tr>\n",
       "      <th>14676</th>\n",
       "      <td>Michael Cage</td>\n",
       "      <td>0.0</td>\n",
       "    </tr>\n",
       "  </tbody>\n",
       "</table>\n",
       "<p>2086 rows × 2 columns</p>\n",
       "</div>"
      ],
      "text/plain": [
       "                 Player  3PA\n",
       "2        Elden Campbell  0.0\n",
       "3         Irving Thomas  0.0\n",
       "18           Jack Haley  0.0\n",
       "20          Keith Owens  0.0\n",
       "30      Benoit Benjamin  0.0\n",
       "...                 ...  ...\n",
       "14666    Evan Eschmeyer  0.0\n",
       "14667  Gheorghe Mureșan  0.0\n",
       "14669     Jim McIlvaine  0.0\n",
       "14675  Mark Hendrickson  0.0\n",
       "14676      Michael Cage  0.0\n",
       "\n",
       "[2086 rows x 2 columns]"
      ]
     },
     "execution_count": 8,
     "metadata": {},
     "output_type": "execute_result"
    }
   ],
   "source": [
    "stats[pd.isnull(stats[\"3P%\"])][[\"Player\", \"3PA\"]]"
   ]
  },
  {
   "cell_type": "code",
   "execution_count": 9,
   "id": "daa4bf5b-1a1c-4e92-8499-6c1ceb06404c",
   "metadata": {
    "tags": []
   },
   "outputs": [
    {
     "data": {
      "text/html": [
       "<div>\n",
       "<style scoped>\n",
       "    .dataframe tbody tr th:only-of-type {\n",
       "        vertical-align: middle;\n",
       "    }\n",
       "\n",
       "    .dataframe tbody tr th {\n",
       "        vertical-align: top;\n",
       "    }\n",
       "\n",
       "    .dataframe thead th {\n",
       "        text-align: right;\n",
       "    }\n",
       "</style>\n",
       "<table border=\"1\" class=\"dataframe\">\n",
       "  <thead>\n",
       "    <tr style=\"text-align: right;\">\n",
       "      <th></th>\n",
       "      <th>Player</th>\n",
       "      <th>FTA</th>\n",
       "    </tr>\n",
       "  </thead>\n",
       "  <tbody>\n",
       "    <tr>\n",
       "      <th>77</th>\n",
       "      <td>John Coker</td>\n",
       "      <td>0.0</td>\n",
       "    </tr>\n",
       "    <tr>\n",
       "      <th>92</th>\n",
       "      <td>Jason Sasser</td>\n",
       "      <td>0.0</td>\n",
       "    </tr>\n",
       "    <tr>\n",
       "      <th>103</th>\n",
       "      <td>Adrian Caldwell</td>\n",
       "      <td>0.0</td>\n",
       "    </tr>\n",
       "    <tr>\n",
       "      <th>119</th>\n",
       "      <td>Bruno Šundov</td>\n",
       "      <td>0.0</td>\n",
       "    </tr>\n",
       "    <tr>\n",
       "      <th>158</th>\n",
       "      <td>Jamal Robinson</td>\n",
       "      <td>0.0</td>\n",
       "    </tr>\n",
       "    <tr>\n",
       "      <th>...</th>\n",
       "      <td>...</td>\n",
       "      <td>...</td>\n",
       "    </tr>\n",
       "    <tr>\n",
       "      <th>14556</th>\n",
       "      <td>Mark McNamara</td>\n",
       "      <td>0.0</td>\n",
       "    </tr>\n",
       "    <tr>\n",
       "      <th>14584</th>\n",
       "      <td>Luke Zeller</td>\n",
       "      <td>0.0</td>\n",
       "    </tr>\n",
       "    <tr>\n",
       "      <th>14637</th>\n",
       "      <td>Myron Brown</td>\n",
       "      <td>0.0</td>\n",
       "    </tr>\n",
       "    <tr>\n",
       "      <th>14659</th>\n",
       "      <td>Malcolm Lee</td>\n",
       "      <td>0.0</td>\n",
       "    </tr>\n",
       "    <tr>\n",
       "      <th>14693</th>\n",
       "      <td>Steve Novak</td>\n",
       "      <td>0.0</td>\n",
       "    </tr>\n",
       "  </tbody>\n",
       "</table>\n",
       "<p>521 rows × 2 columns</p>\n",
       "</div>"
      ],
      "text/plain": [
       "                Player  FTA\n",
       "77          John Coker  0.0\n",
       "92        Jason Sasser  0.0\n",
       "103    Adrian Caldwell  0.0\n",
       "119       Bruno Šundov  0.0\n",
       "158     Jamal Robinson  0.0\n",
       "...                ...  ...\n",
       "14556    Mark McNamara  0.0\n",
       "14584      Luke Zeller  0.0\n",
       "14637      Myron Brown  0.0\n",
       "14659      Malcolm Lee  0.0\n",
       "14693      Steve Novak  0.0\n",
       "\n",
       "[521 rows x 2 columns]"
      ]
     },
     "execution_count": 9,
     "metadata": {},
     "output_type": "execute_result"
    }
   ],
   "source": [
    "stats[pd.isnull(stats[\"FT%\"])][[\"Player\", \"FTA\"]]"
   ]
  },
  {
   "cell_type": "code",
   "execution_count": 10,
   "id": "945413e9-71cc-43fd-8d2c-d4924037e3be",
   "metadata": {
    "tags": []
   },
   "outputs": [],
   "source": [
    "stats = stats.fillna(0)"
   ]
  },
  {
   "cell_type": "code",
   "execution_count": 11,
   "id": "197bb97a-dce2-4218-8234-1a2e842d7062",
   "metadata": {
    "tags": []
   },
   "outputs": [
    {
     "data": {
      "text/plain": [
       "Index(['Player', 'Pos', 'Age', 'Tm', 'G', 'GS', 'MP', 'FG', 'FGA', 'FG%', '3P',\n",
       "       '3PA', '3P%', '2P', '2PA', '2P%', 'eFG%', 'FT', 'FTA', 'FT%', 'ORB',\n",
       "       'DRB', 'TRB', 'AST', 'STL', 'BLK', 'TOV', 'PF', 'PTS', 'Year',\n",
       "       'Pts Won', 'Pts Max', 'Share', 'Team', 'W', 'L', 'W/L%', 'GB', 'PS/G',\n",
       "       'PA/G', 'SRS'],\n",
       "      dtype='object')"
      ]
     },
     "execution_count": 11,
     "metadata": {},
     "output_type": "execute_result"
    }
   ],
   "source": [
    "#training a ML model\n",
    "stats.columns"
   ]
  },
  {
   "cell_type": "code",
   "execution_count": 12,
   "id": "bdb6d231-22b4-4cf5-8c70-29fb8b38106a",
   "metadata": {
    "tags": []
   },
   "outputs": [],
   "source": [
    "predictors = ['Age', 'G', 'GS', 'MP', 'FG', 'FGA', 'FG%', '3P',\n",
    "       '3PA', '3P%', '2P', '2PA', '2P%', 'eFG%', 'FT', 'FTA', 'FT%', 'ORB',\n",
    "       'DRB', 'TRB', 'AST', 'STL', 'BLK', 'TOV', 'PF', 'PTS', 'Year',\n",
    "       'W', 'L', 'W/L%', 'GB', 'PS/G',\n",
    "       'PA/G', 'SRS']"
   ]
  },
  {
   "cell_type": "code",
   "execution_count": 14,
   "id": "b0575368-0c88-42bc-a0bb-d600bdd995b3",
   "metadata": {
    "tags": []
   },
   "outputs": [],
   "source": [
    "train = stats[stats[\"Year\"] < 2022]"
   ]
  },
  {
   "cell_type": "code",
   "execution_count": 15,
   "id": "ccf49ab0-4d46-4306-95ff-af4416eacd0e",
   "metadata": {
    "tags": []
   },
   "outputs": [],
   "source": [
    "test = stats[stats[\"Year\"] == 2022]"
   ]
  },
  {
   "cell_type": "code",
   "execution_count": 16,
   "id": "7e083587-f8cc-4a25-b58a-47dd9b3fa693",
   "metadata": {
    "tags": []
   },
   "outputs": [],
   "source": [
    "from sklearn.linear_model import Ridge\n",
    "\n",
    "reg = Ridge(alpha=.1)"
   ]
  },
  {
   "cell_type": "code",
   "execution_count": 17,
   "id": "812b92f9-4c39-45b3-8547-273b9bdac1b1",
   "metadata": {
    "tags": []
   },
   "outputs": [
    {
     "data": {
      "text/html": [
       "<style>#sk-container-id-1 {color: black;}#sk-container-id-1 pre{padding: 0;}#sk-container-id-1 div.sk-toggleable {background-color: white;}#sk-container-id-1 label.sk-toggleable__label {cursor: pointer;display: block;width: 100%;margin-bottom: 0;padding: 0.3em;box-sizing: border-box;text-align: center;}#sk-container-id-1 label.sk-toggleable__label-arrow:before {content: \"▸\";float: left;margin-right: 0.25em;color: #696969;}#sk-container-id-1 label.sk-toggleable__label-arrow:hover:before {color: black;}#sk-container-id-1 div.sk-estimator:hover label.sk-toggleable__label-arrow:before {color: black;}#sk-container-id-1 div.sk-toggleable__content {max-height: 0;max-width: 0;overflow: hidden;text-align: left;background-color: #f0f8ff;}#sk-container-id-1 div.sk-toggleable__content pre {margin: 0.2em;color: black;border-radius: 0.25em;background-color: #f0f8ff;}#sk-container-id-1 input.sk-toggleable__control:checked~div.sk-toggleable__content {max-height: 200px;max-width: 100%;overflow: auto;}#sk-container-id-1 input.sk-toggleable__control:checked~label.sk-toggleable__label-arrow:before {content: \"▾\";}#sk-container-id-1 div.sk-estimator input.sk-toggleable__control:checked~label.sk-toggleable__label {background-color: #d4ebff;}#sk-container-id-1 div.sk-label input.sk-toggleable__control:checked~label.sk-toggleable__label {background-color: #d4ebff;}#sk-container-id-1 input.sk-hidden--visually {border: 0;clip: rect(1px 1px 1px 1px);clip: rect(1px, 1px, 1px, 1px);height: 1px;margin: -1px;overflow: hidden;padding: 0;position: absolute;width: 1px;}#sk-container-id-1 div.sk-estimator {font-family: monospace;background-color: #f0f8ff;border: 1px dotted black;border-radius: 0.25em;box-sizing: border-box;margin-bottom: 0.5em;}#sk-container-id-1 div.sk-estimator:hover {background-color: #d4ebff;}#sk-container-id-1 div.sk-parallel-item::after {content: \"\";width: 100%;border-bottom: 1px solid gray;flex-grow: 1;}#sk-container-id-1 div.sk-label:hover label.sk-toggleable__label {background-color: #d4ebff;}#sk-container-id-1 div.sk-serial::before {content: \"\";position: absolute;border-left: 1px solid gray;box-sizing: border-box;top: 0;bottom: 0;left: 50%;z-index: 0;}#sk-container-id-1 div.sk-serial {display: flex;flex-direction: column;align-items: center;background-color: white;padding-right: 0.2em;padding-left: 0.2em;position: relative;}#sk-container-id-1 div.sk-item {position: relative;z-index: 1;}#sk-container-id-1 div.sk-parallel {display: flex;align-items: stretch;justify-content: center;background-color: white;position: relative;}#sk-container-id-1 div.sk-item::before, #sk-container-id-1 div.sk-parallel-item::before {content: \"\";position: absolute;border-left: 1px solid gray;box-sizing: border-box;top: 0;bottom: 0;left: 50%;z-index: -1;}#sk-container-id-1 div.sk-parallel-item {display: flex;flex-direction: column;z-index: 1;position: relative;background-color: white;}#sk-container-id-1 div.sk-parallel-item:first-child::after {align-self: flex-end;width: 50%;}#sk-container-id-1 div.sk-parallel-item:last-child::after {align-self: flex-start;width: 50%;}#sk-container-id-1 div.sk-parallel-item:only-child::after {width: 0;}#sk-container-id-1 div.sk-dashed-wrapped {border: 1px dashed gray;margin: 0 0.4em 0.5em 0.4em;box-sizing: border-box;padding-bottom: 0.4em;background-color: white;}#sk-container-id-1 div.sk-label label {font-family: monospace;font-weight: bold;display: inline-block;line-height: 1.2em;}#sk-container-id-1 div.sk-label-container {text-align: center;}#sk-container-id-1 div.sk-container {/* jupyter's `normalize.less` sets `[hidden] { display: none; }` but bootstrap.min.css set `[hidden] { display: none !important; }` so we also need the `!important` here to be able to override the default hidden behavior on the sphinx rendered scikit-learn.org. See: https://github.com/scikit-learn/scikit-learn/issues/21755 */display: inline-block !important;position: relative;}#sk-container-id-1 div.sk-text-repr-fallback {display: none;}</style><div id=\"sk-container-id-1\" class=\"sk-top-container\"><div class=\"sk-text-repr-fallback\"><pre>Ridge(alpha=0.1)</pre><b>In a Jupyter environment, please rerun this cell to show the HTML representation or trust the notebook. <br />On GitHub, the HTML representation is unable to render, please try loading this page with nbviewer.org.</b></div><div class=\"sk-container\" hidden><div class=\"sk-item\"><div class=\"sk-estimator sk-toggleable\"><input class=\"sk-toggleable__control sk-hidden--visually\" id=\"sk-estimator-id-1\" type=\"checkbox\" checked><label for=\"sk-estimator-id-1\" class=\"sk-toggleable__label sk-toggleable__label-arrow\">Ridge</label><div class=\"sk-toggleable__content\"><pre>Ridge(alpha=0.1)</pre></div></div></div></div></div>"
      ],
      "text/plain": [
       "Ridge(alpha=0.1)"
      ]
     },
     "execution_count": 17,
     "metadata": {},
     "output_type": "execute_result"
    }
   ],
   "source": [
    "reg.fit(train[predictors], train[\"Share\"])"
   ]
  },
  {
   "cell_type": "code",
   "execution_count": 18,
   "id": "c678a402-5809-4e82-a8dd-aadc29110b7e",
   "metadata": {
    "tags": []
   },
   "outputs": [],
   "source": [
    "predictions = reg.predict(test[predictors])"
   ]
  },
  {
   "cell_type": "code",
   "execution_count": 19,
   "id": "7b8a3876-d098-48b8-9135-6e2065e556e8",
   "metadata": {
    "tags": []
   },
   "outputs": [
    {
     "data": {
      "text/plain": [
       "array([ 1.29340324e-02, -2.81426661e-02, -6.16297554e-03,  1.65640646e-02,\n",
       "       -4.81969823e-03, -7.62772282e-03, -4.52133709e-03,  2.83104542e-02,\n",
       "        2.71275035e-03,  2.07841835e-03, -2.28940640e-03, -1.97783365e-04,\n",
       "        9.26616065e-03, -2.46981249e-02,  5.52974024e-03,  1.90365032e-01,\n",
       "       -2.32609324e-02, -2.30608388e-04, -1.70714902e-02,  6.62863897e-03,\n",
       "       -1.49271166e-02,  3.00340864e-03, -3.72040333e-03, -1.03486671e-02,\n",
       "       -1.42173486e-02, -2.40207320e-04, -3.37910348e-03, -1.30780505e-02,\n",
       "       -3.56480984e-03, -2.76932105e-02,  1.03583795e-01,  1.90462050e-01,\n",
       "       -2.09460923e-02, -2.68464929e-03, -8.49624045e-03,  3.03623050e-03,\n",
       "       -1.11133149e-02,  2.75053156e-02,  2.02861274e-02, -1.97060554e-02,\n",
       "        6.10278432e-03, -2.34224982e-03,  1.48399790e-02,  1.82426041e-02,\n",
       "        1.72337510e-02, -8.65498151e-03,  7.83280801e-02,  6.66845699e-02,\n",
       "        9.13092120e-02, -2.90773602e-03, -1.90264046e-02,  2.99294416e-02,\n",
       "       -4.83497573e-03,  4.85140061e-04,  3.88290688e-02,  7.11176590e-03,\n",
       "        6.83051467e-03, -2.39054388e-03,  1.83582884e-02,  1.03389245e-02,\n",
       "        8.35011608e-03, -3.02456268e-03, -5.76860571e-03,  2.45547987e-02,\n",
       "        2.53199020e-03,  1.82066343e-02,  1.56595306e-04,  2.56933976e-02,\n",
       "       -2.20013627e-02, -2.39810230e-02, -2.75830270e-03,  6.94572313e-02,\n",
       "        9.59025161e-02, -1.64288086e-02, -4.51658907e-02, -1.47525869e-02,\n",
       "       -3.96626507e-03,  2.62740337e-03,  9.57735363e-03,  1.25318368e-02,\n",
       "        6.91399067e-03,  1.48331558e-03,  1.21973551e-02,  1.13275006e-02,\n",
       "       -2.79936458e-02, -5.89230446e-03,  7.62578124e-03, -1.64590594e-02,\n",
       "       -1.85545629e-02, -8.94321311e-03,  1.57182206e-02,  2.57416997e-03,\n",
       "       -1.70120476e-02, -9.40137919e-04, -1.23042310e-02,  3.22575877e-03,\n",
       "       -7.17394939e-03, -1.63478906e-02, -1.25256972e-01,  2.22143224e-02,\n",
       "       -2.34702065e-02, -1.97095607e-02,  2.77470207e-03, -5.55093273e-02,\n",
       "        8.80226990e-02, -2.59525956e-03, -2.07004333e-02, -6.22956888e-03,\n",
       "       -3.18335288e-02, -6.64142173e-02,  2.06575805e-02, -8.51811183e-03,\n",
       "        1.48273488e-02,  1.08452521e-02, -1.75392496e-02,  6.55171062e-02,\n",
       "        7.65415424e-02, -8.60358145e-03,  2.35869618e-02,  2.54669129e-02,\n",
       "       -6.28793564e-03,  7.66573556e-03, -8.75791005e-04, -2.37058309e-02,\n",
       "       -1.71368415e-03, -1.94901177e-02, -1.39777417e-02,  9.36080235e-03,\n",
       "       -2.98473088e-03,  1.89921976e-02,  2.27524789e-02, -1.59111415e-02,\n",
       "       -2.61101542e-02, -2.72200465e-02,  1.40322378e-04,  1.95307823e-02,\n",
       "       -4.40163935e-02,  4.89854090e-03, -2.23566108e-02, -2.95066935e-02,\n",
       "       -1.87038136e-02, -1.08155583e-02, -1.11207397e-02, -3.01249570e-02,\n",
       "        2.39486629e-02,  1.06218906e-02,  2.61711724e-02, -1.51157350e-02,\n",
       "       -2.20620924e-02, -1.19929234e-02,  4.51414530e-02, -2.54647900e-02,\n",
       "       -1.11790676e-02, -1.42916519e-02,  1.32635990e-02, -1.94711541e-02,\n",
       "        3.06769286e-02,  3.26194863e-03,  9.28687726e-03,  5.69127994e-03,\n",
       "       -1.07434867e-02, -3.61268656e-02,  1.63363545e-03,  3.74318865e-02,\n",
       "        2.46098209e-02,  2.37996003e-03, -1.09936882e-02, -2.65329061e-03,\n",
       "       -8.78190752e-03, -2.36731901e-02,  2.31421663e-02,  1.12811414e-02,\n",
       "       -7.87928849e-03, -2.07726263e-02,  3.21123964e-03, -6.69963964e-03,\n",
       "       -1.79244355e-03,  1.31348573e-02, -3.20963258e-02,  4.63732547e-02,\n",
       "        3.08964116e-03,  1.59236258e-02, -3.55300020e-03, -1.12203194e-05,\n",
       "       -3.29813200e-02,  2.37428659e-02, -1.16023923e-02,  2.32615956e-02,\n",
       "       -7.45211718e-03, -2.59953819e-02,  1.75564645e-02,  1.73875181e-03,\n",
       "       -1.41588276e-02, -1.88473690e-02, -1.66343977e-02, -6.34798810e-03,\n",
       "        9.92400846e-02, -1.50777370e-02, -4.42266831e-03, -1.34840660e-02,\n",
       "        1.99830808e-02, -2.10589519e-03, -1.12551641e-04,  4.69315589e-03,\n",
       "       -4.00512787e-03,  5.25795699e-02, -1.86554310e-02, -1.07714946e-02,\n",
       "       -9.33805703e-03, -1.31235198e-02, -1.00281498e-02,  7.15234817e-02,\n",
       "       -2.10595836e-02,  6.73684750e-02,  4.67034379e-02, -7.71809306e-03,\n",
       "       -1.32210037e-02, -1.15350575e-03, -2.22448137e-02,  3.18719174e-02,\n",
       "        8.14560849e-03,  5.57764137e-02,  1.04512611e-02, -1.05531035e-02,\n",
       "       -8.21368042e-03,  2.98927760e-03, -2.20478419e-02, -8.54981873e-03,\n",
       "       -1.68947990e-02,  1.00460131e-02,  6.99117657e-03, -1.44594118e-02,\n",
       "        7.48658902e-02, -1.22307326e-02, -9.25715918e-04, -4.89315445e-03,\n",
       "       -1.17195805e-02, -7.25585920e-03, -1.72862941e-03, -5.07084266e-05,\n",
       "       -6.02964058e-03, -5.28993481e-03,  1.47562171e-02, -2.39406782e-03,\n",
       "       -1.04954042e-02,  4.05518742e-03, -1.96176177e-03,  1.27198044e-02,\n",
       "        2.76746995e-02,  2.27423339e-02,  3.40112347e-03, -2.33270013e-03,\n",
       "        1.26293859e-02,  1.04798897e-02,  3.34694699e-02,  7.75743066e-02,\n",
       "        4.16839794e-03,  6.67303375e-03, -1.45060615e-02, -1.79875584e-02,\n",
       "        3.09442886e-04,  8.82933158e-03,  2.53299682e-02,  6.96080782e-03,\n",
       "       -2.61524998e-03,  2.13746274e-03, -2.43403661e-02, -8.85361301e-03,\n",
       "       -1.44951732e-02, -1.46061632e-02, -4.00730464e-02, -3.26857731e-02,\n",
       "        1.40626154e-01,  6.87029435e-02,  2.44358016e-02,  1.09890663e-02,\n",
       "       -2.49877714e-02, -4.65826034e-03, -1.81763915e-02,  8.28179716e-03,\n",
       "        2.63909301e-02, -9.03138131e-03,  1.01639782e-03,  2.84655307e-02,\n",
       "        1.84444974e-02,  2.78989681e-02,  3.84974570e-02,  9.33979971e-03,\n",
       "       -2.56382681e-03,  3.04312253e-02, -1.91020693e-04,  2.11322507e-02,\n",
       "        1.96075300e-02, -5.72208269e-03,  9.31372879e-02,  6.64262643e-03,\n",
       "       -1.16517756e-03, -3.39590508e-03, -2.50911422e-02, -2.95261740e-02,\n",
       "       -6.49672551e-03,  6.08089490e-02, -2.78168601e-03, -3.48468212e-02,\n",
       "        7.53547456e-05, -1.51520316e-02, -9.38724846e-03, -9.78118032e-03,\n",
       "        3.05470891e-02,  2.71739133e-03,  5.21045685e-02, -2.21144948e-02,\n",
       "       -2.81511086e-02, -1.16762662e-02, -2.80877046e-03,  5.21641217e-03,\n",
       "        1.07305675e-01, -1.63795134e-02, -3.66044354e-02,  1.37968949e-02,\n",
       "       -1.27158649e-02, -2.49641628e-02,  8.54430502e-03,  1.01761371e-02,\n",
       "       -2.87322933e-02, -2.27090006e-02,  1.57827263e-01, -2.19229973e-02,\n",
       "        8.48672674e-03,  2.50335035e-02,  4.64725920e-02,  3.97187820e-02,\n",
       "       -1.57831570e-02, -8.92030482e-03, -1.29051911e-02, -1.05236925e-02,\n",
       "       -1.41043711e-02,  3.70296142e-02,  3.79764076e-02, -2.62318412e-02,\n",
       "       -4.99766183e-03, -1.65438034e-02,  9.23768919e-03, -1.79338562e-03,\n",
       "       -1.59767257e-02,  9.45656182e-02, -1.47127160e-02, -9.74329662e-03,\n",
       "       -1.31592961e-02, -1.71798393e-03,  1.02258338e-02,  1.70212238e-02,\n",
       "        1.75046043e-03, -9.28067433e-03, -1.85430091e-02,  4.94126019e-02,\n",
       "       -7.83357293e-03, -1.91444786e-02, -1.40138439e-02,  1.93040157e-02,\n",
       "       -3.09899119e-03,  5.07836930e-03, -3.04375895e-03,  1.24574145e-02,\n",
       "        4.38517190e-03,  5.22388020e-04, -1.53559747e-02, -1.05022624e-02,\n",
       "        7.60233914e-02,  3.85014322e-02, -8.04356029e-04,  2.44095475e-03,\n",
       "        4.91228916e-03, -1.21298612e-02, -1.90339065e-02, -7.07402067e-03,\n",
       "        1.03728309e-02,  9.19256751e-02,  5.76826632e-04, -3.12677418e-03,\n",
       "       -1.77492341e-02,  2.53383149e-02, -1.61322329e-03, -6.24799464e-03,\n",
       "       -8.85302704e-03, -1.50153294e-02, -3.34485222e-02, -1.19540551e-02,\n",
       "        1.70379851e-02,  4.10250113e-03, -2.61337832e-02,  1.60033726e-03,\n",
       "       -2.68911967e-02, -2.68459245e-04, -5.14388443e-03,  1.04594896e-02,\n",
       "        5.39009570e-02, -6.99701548e-03,  7.44556185e-04,  2.01895353e-02,\n",
       "        3.53838421e-02,  4.80169087e-03,  2.71436934e-03, -1.43435039e-02,\n",
       "       -2.71945077e-02,  2.46585911e-03, -5.86921904e-04,  7.46965452e-02,\n",
       "       -1.00497378e-02,  2.45790957e-02,  4.89917799e-03, -2.88566445e-03,\n",
       "        5.08621037e-03,  6.36835806e-03,  8.22603013e-03, -1.23086290e-02,\n",
       "        1.17376735e-02, -2.50199688e-03, -7.26592638e-03, -5.62863862e-03,\n",
       "       -1.88132703e-02, -1.97489899e-02,  1.70909419e-02,  4.64686038e-02,\n",
       "        1.18372878e-03,  5.79746486e-02,  4.51916513e-02, -1.28732376e-02,\n",
       "       -2.51013487e-03,  2.49185365e-02,  3.31825629e-02,  8.25643051e-02,\n",
       "        2.26976179e-03, -1.71975981e-02,  8.28202499e-03, -7.80655398e-03,\n",
       "       -1.32903387e-02, -7.70568592e-03, -1.77297381e-02,  8.98494859e-02,\n",
       "       -1.16174509e-02, -1.20753124e-06,  2.70071704e-02, -1.61493285e-02,\n",
       "       -1.87295953e-02,  2.50780921e-03, -2.48385085e-02,  7.02096711e-03,\n",
       "       -2.29563726e-02,  3.23940719e-02, -3.30342136e-03,  2.64579042e-02,\n",
       "        7.45617058e-03,  1.81957568e-02, -1.79587259e-02,  3.66110217e-03,\n",
       "        7.76151581e-03,  1.45605626e-02,  9.22900170e-05,  1.25954720e-02,\n",
       "        1.81509091e-02,  3.04507091e-02, -1.14992626e-02,  1.57395154e-01,\n",
       "        7.18778923e-03,  6.85415182e-04,  1.27320248e-02, -1.69282239e-02,\n",
       "        3.15875423e-02, -4.76929766e-03,  1.01402521e-02,  1.01416583e-02,\n",
       "       -7.52273072e-05,  1.58187664e-02,  1.35951546e-03, -1.79506041e-02,\n",
       "       -2.34252576e-02,  2.19409418e-01, -8.31574228e-03,  2.85070520e-02,\n",
       "       -6.71620182e-03, -1.38204888e-02,  5.08785237e-02,  5.19565629e-02,\n",
       "       -3.37773455e-02,  7.67972751e-03, -1.77922286e-03, -8.19948835e-03,\n",
       "       -1.11597467e-02,  2.31140422e-03, -9.44849529e-03, -3.17255332e-02,\n",
       "        1.54037292e-02,  2.01202213e-02,  1.18337924e-02, -3.33533391e-02,\n",
       "        3.56275836e-02,  4.69846870e-03, -1.96202837e-02, -1.03631764e-02,\n",
       "        5.79026330e-03, -8.50460173e-03,  3.39493214e-02, -1.62949936e-02,\n",
       "       -1.65373055e-03, -3.26741797e-03,  2.12383180e-03, -6.60918332e-04,\n",
       "       -1.12174090e-02, -1.31473165e-02, -1.02178451e-02,  1.09246420e-01,\n",
       "       -6.62771694e-02,  1.15679010e-02, -6.56570458e-03, -6.58483622e-03,\n",
       "        7.02489711e-02, -3.82627861e-04, -3.58640050e-03,  2.71907906e-02,\n",
       "        4.04035632e-03, -1.55636089e-02,  1.07249792e-02,  1.50333004e-03,\n",
       "        2.26906708e-02,  1.61102085e-02, -8.19294322e-03, -2.56408041e-02,\n",
       "       -3.24167901e-02,  9.78345591e-04,  9.76898549e-02, -1.40727027e-02,\n",
       "       -1.10267162e-02, -7.91288255e-04, -1.74970924e-02,  3.51132764e-02,\n",
       "        1.04102206e-03,  1.52009279e-02,  1.79711042e-02,  2.94124986e-02,\n",
       "        1.71067208e-02,  1.20507785e-01,  4.12359400e-02, -4.07737264e-04,\n",
       "       -1.07807743e-03,  3.03495728e-02, -1.43754873e-02,  1.56479805e-02,\n",
       "        1.09097400e-02, -4.19516879e-03, -2.28896630e-03, -5.02417658e-03,\n",
       "       -3.09471579e-02,  1.69401951e-02,  2.13190774e-03, -2.04257811e-03,\n",
       "       -1.38298881e-02,  8.03939787e-05,  1.96170875e-02,  1.31458736e-02,\n",
       "       -8.37021333e-03,  4.61777267e-02, -1.46589812e-02, -2.06852791e-04,\n",
       "       -1.56711287e-02,  2.93762721e-02, -3.46803176e-02,  5.65571716e-02,\n",
       "        5.36856387e-02, -5.15938313e-04, -8.22766971e-03,  1.21178537e-02,\n",
       "        3.12158458e-02,  8.85872544e-03, -2.78832597e-03, -1.23809455e-03,\n",
       "        1.42096652e-02,  6.85420580e-04, -3.41327866e-02,  4.19819389e-03,\n",
       "        3.68938475e-03,  7.28581362e-03, -4.41367585e-02, -2.90652456e-02,\n",
       "       -1.35065644e-02, -2.02149485e-02, -4.12643659e-03, -6.64894306e-02,\n",
       "       -8.47400309e-03,  1.52848442e-02, -2.46517432e-02, -2.75808088e-02,\n",
       "       -1.49692446e-02, -2.62166883e-02,  3.02662195e-02, -2.02697203e-02,\n",
       "        1.51904476e-02, -2.46182933e-02, -9.96330079e-03,  7.66637237e-03,\n",
       "       -1.93800651e-02, -1.01966120e-02,  3.81017847e-03,  1.16179126e-03,\n",
       "       -5.70068712e-02])"
      ]
     },
     "execution_count": 19,
     "metadata": {},
     "output_type": "execute_result"
    }
   ],
   "source": [
    "predictions"
   ]
  },
  {
   "cell_type": "code",
   "execution_count": 21,
   "id": "e6acdb43-49c7-4efd-ab6c-bde11151e914",
   "metadata": {
    "tags": []
   },
   "outputs": [],
   "source": [
    "predictions = pd.DataFrame(predictions, columns=[\"predictions\"], index=test.index)"
   ]
  },
  {
   "cell_type": "code",
   "execution_count": 22,
   "id": "e9bd2b29-0f96-4b38-a739-cf6ae641de0f",
   "metadata": {
    "tags": []
   },
   "outputs": [
    {
     "data": {
      "text/html": [
       "<div>\n",
       "<style scoped>\n",
       "    .dataframe tbody tr th:only-of-type {\n",
       "        vertical-align: middle;\n",
       "    }\n",
       "\n",
       "    .dataframe tbody tr th {\n",
       "        vertical-align: top;\n",
       "    }\n",
       "\n",
       "    .dataframe thead th {\n",
       "        text-align: right;\n",
       "    }\n",
       "</style>\n",
       "<table border=\"1\" class=\"dataframe\">\n",
       "  <thead>\n",
       "    <tr style=\"text-align: right;\">\n",
       "      <th></th>\n",
       "      <th>predictions</th>\n",
       "    </tr>\n",
       "  </thead>\n",
       "  <tbody>\n",
       "    <tr>\n",
       "      <th>648</th>\n",
       "      <td>0.012934</td>\n",
       "    </tr>\n",
       "    <tr>\n",
       "      <th>649</th>\n",
       "      <td>-0.028143</td>\n",
       "    </tr>\n",
       "    <tr>\n",
       "      <th>650</th>\n",
       "      <td>-0.006163</td>\n",
       "    </tr>\n",
       "    <tr>\n",
       "      <th>651</th>\n",
       "      <td>0.016564</td>\n",
       "    </tr>\n",
       "    <tr>\n",
       "      <th>652</th>\n",
       "      <td>-0.004820</td>\n",
       "    </tr>\n",
       "    <tr>\n",
       "      <th>...</th>\n",
       "      <td>...</td>\n",
       "    </tr>\n",
       "    <tr>\n",
       "      <th>12508</th>\n",
       "      <td>-0.019380</td>\n",
       "    </tr>\n",
       "    <tr>\n",
       "      <th>12509</th>\n",
       "      <td>-0.010197</td>\n",
       "    </tr>\n",
       "    <tr>\n",
       "      <th>12510</th>\n",
       "      <td>0.003810</td>\n",
       "    </tr>\n",
       "    <tr>\n",
       "      <th>12511</th>\n",
       "      <td>0.001162</td>\n",
       "    </tr>\n",
       "    <tr>\n",
       "      <th>12512</th>\n",
       "      <td>-0.057007</td>\n",
       "    </tr>\n",
       "  </tbody>\n",
       "</table>\n",
       "<p>605 rows × 1 columns</p>\n",
       "</div>"
      ],
      "text/plain": [
       "       predictions\n",
       "648       0.012934\n",
       "649      -0.028143\n",
       "650      -0.006163\n",
       "651       0.016564\n",
       "652      -0.004820\n",
       "...            ...\n",
       "12508    -0.019380\n",
       "12509    -0.010197\n",
       "12510     0.003810\n",
       "12511     0.001162\n",
       "12512    -0.057007\n",
       "\n",
       "[605 rows x 1 columns]"
      ]
     },
     "execution_count": 22,
     "metadata": {},
     "output_type": "execute_result"
    }
   ],
   "source": [
    "predictions"
   ]
  },
  {
   "cell_type": "code",
   "execution_count": 23,
   "id": "5e6c8be4-ae5b-4b93-b643-33208a5e0475",
   "metadata": {
    "tags": []
   },
   "outputs": [],
   "source": [
    "combination = pd.concat([test[[\"Player\", \"Share\"]], predictions], axis=1)"
   ]
  },
  {
   "cell_type": "code",
   "execution_count": 24,
   "id": "8c704087-c69c-4bfa-a205-608b62538629",
   "metadata": {
    "tags": []
   },
   "outputs": [
    {
     "data": {
      "text/html": [
       "<div>\n",
       "<style scoped>\n",
       "    .dataframe tbody tr th:only-of-type {\n",
       "        vertical-align: middle;\n",
       "    }\n",
       "\n",
       "    .dataframe tbody tr th {\n",
       "        vertical-align: top;\n",
       "    }\n",
       "\n",
       "    .dataframe thead th {\n",
       "        text-align: right;\n",
       "    }\n",
       "</style>\n",
       "<table border=\"1\" class=\"dataframe\">\n",
       "  <thead>\n",
       "    <tr style=\"text-align: right;\">\n",
       "      <th></th>\n",
       "      <th>Player</th>\n",
       "      <th>Share</th>\n",
       "      <th>predictions</th>\n",
       "    </tr>\n",
       "  </thead>\n",
       "  <tbody>\n",
       "    <tr>\n",
       "      <th>648</th>\n",
       "      <td>Aaron Gordon</td>\n",
       "      <td>0.0</td>\n",
       "      <td>0.012934</td>\n",
       "    </tr>\n",
       "    <tr>\n",
       "      <th>649</th>\n",
       "      <td>Austin Rivers</td>\n",
       "      <td>0.0</td>\n",
       "      <td>-0.028143</td>\n",
       "    </tr>\n",
       "    <tr>\n",
       "      <th>650</th>\n",
       "      <td>Bol Bol</td>\n",
       "      <td>0.0</td>\n",
       "      <td>-0.006163</td>\n",
       "    </tr>\n",
       "    <tr>\n",
       "      <th>651</th>\n",
       "      <td>Bones Hyland</td>\n",
       "      <td>0.0</td>\n",
       "      <td>0.016564</td>\n",
       "    </tr>\n",
       "    <tr>\n",
       "      <th>652</th>\n",
       "      <td>Bryn Forbes</td>\n",
       "      <td>0.0</td>\n",
       "      <td>-0.004820</td>\n",
       "    </tr>\n",
       "    <tr>\n",
       "      <th>...</th>\n",
       "      <td>...</td>\n",
       "      <td>...</td>\n",
       "      <td>...</td>\n",
       "    </tr>\n",
       "    <tr>\n",
       "      <th>12508</th>\n",
       "      <td>Micah Potter</td>\n",
       "      <td>0.0</td>\n",
       "      <td>-0.019380</td>\n",
       "    </tr>\n",
       "    <tr>\n",
       "      <th>12509</th>\n",
       "      <td>Rodney McGruder</td>\n",
       "      <td>0.0</td>\n",
       "      <td>-0.010197</td>\n",
       "    </tr>\n",
       "    <tr>\n",
       "      <th>12510</th>\n",
       "      <td>Saben Lee</td>\n",
       "      <td>0.0</td>\n",
       "      <td>0.003810</td>\n",
       "    </tr>\n",
       "    <tr>\n",
       "      <th>12511</th>\n",
       "      <td>Saddiq Bey</td>\n",
       "      <td>0.0</td>\n",
       "      <td>0.001162</td>\n",
       "    </tr>\n",
       "    <tr>\n",
       "      <th>12512</th>\n",
       "      <td>Trayvon Palmer</td>\n",
       "      <td>0.0</td>\n",
       "      <td>-0.057007</td>\n",
       "    </tr>\n",
       "  </tbody>\n",
       "</table>\n",
       "<p>605 rows × 3 columns</p>\n",
       "</div>"
      ],
      "text/plain": [
       "                Player  Share  predictions\n",
       "648       Aaron Gordon    0.0     0.012934\n",
       "649      Austin Rivers    0.0    -0.028143\n",
       "650            Bol Bol    0.0    -0.006163\n",
       "651       Bones Hyland    0.0     0.016564\n",
       "652        Bryn Forbes    0.0    -0.004820\n",
       "...                ...    ...          ...\n",
       "12508     Micah Potter    0.0    -0.019380\n",
       "12509  Rodney McGruder    0.0    -0.010197\n",
       "12510        Saben Lee    0.0     0.003810\n",
       "12511       Saddiq Bey    0.0     0.001162\n",
       "12512   Trayvon Palmer    0.0    -0.057007\n",
       "\n",
       "[605 rows x 3 columns]"
      ]
     },
     "execution_count": 24,
     "metadata": {},
     "output_type": "execute_result"
    }
   ],
   "source": [
    "combination"
   ]
  },
  {
   "cell_type": "code",
   "execution_count": 25,
   "id": "1f94c29d-2790-4162-99c4-ee18e0d96ce9",
   "metadata": {
    "tags": []
   },
   "outputs": [
    {
     "data": {
      "text/html": [
       "<div>\n",
       "<style scoped>\n",
       "    .dataframe tbody tr th:only-of-type {\n",
       "        vertical-align: middle;\n",
       "    }\n",
       "\n",
       "    .dataframe tbody tr th {\n",
       "        vertical-align: top;\n",
       "    }\n",
       "\n",
       "    .dataframe thead th {\n",
       "        text-align: right;\n",
       "    }\n",
       "</style>\n",
       "<table border=\"1\" class=\"dataframe\">\n",
       "  <thead>\n",
       "    <tr style=\"text-align: right;\">\n",
       "      <th></th>\n",
       "      <th>Player</th>\n",
       "      <th>Share</th>\n",
       "      <th>predictions</th>\n",
       "    </tr>\n",
       "  </thead>\n",
       "  <tbody>\n",
       "    <tr>\n",
       "      <th>663</th>\n",
       "      <td>Nikola Jokić</td>\n",
       "      <td>0.875</td>\n",
       "      <td>0.190365</td>\n",
       "    </tr>\n",
       "    <tr>\n",
       "      <th>837</th>\n",
       "      <td>Joel Embiid</td>\n",
       "      <td>0.706</td>\n",
       "      <td>0.190462</td>\n",
       "    </tr>\n",
       "    <tr>\n",
       "      <th>11678</th>\n",
       "      <td>Giannis Antetokounmpo</td>\n",
       "      <td>0.595</td>\n",
       "      <td>0.219409</td>\n",
       "    </tr>\n",
       "    <tr>\n",
       "      <th>907</th>\n",
       "      <td>Devin Booker</td>\n",
       "      <td>0.216</td>\n",
       "      <td>0.091309</td>\n",
       "    </tr>\n",
       "    <tr>\n",
       "      <th>11469</th>\n",
       "      <td>Luka Dončić</td>\n",
       "      <td>0.146</td>\n",
       "      <td>0.157395</td>\n",
       "    </tr>\n",
       "    <tr>\n",
       "      <th>1179</th>\n",
       "      <td>Jayson Tatum</td>\n",
       "      <td>0.043</td>\n",
       "      <td>0.095903</td>\n",
       "    </tr>\n",
       "    <tr>\n",
       "      <th>12226</th>\n",
       "      <td>Ja Morant</td>\n",
       "      <td>0.010</td>\n",
       "      <td>0.120508</td>\n",
       "    </tr>\n",
       "    <tr>\n",
       "      <th>6398</th>\n",
       "      <td>Stephen Curry</td>\n",
       "      <td>0.004</td>\n",
       "      <td>0.093137</td>\n",
       "    </tr>\n",
       "    <tr>\n",
       "      <th>905</th>\n",
       "      <td>Chris Paul</td>\n",
       "      <td>0.002</td>\n",
       "      <td>0.078328</td>\n",
       "    </tr>\n",
       "    <tr>\n",
       "      <th>8241</th>\n",
       "      <td>LeBron James</td>\n",
       "      <td>0.001</td>\n",
       "      <td>0.157827</td>\n",
       "    </tr>\n",
       "  </tbody>\n",
       "</table>\n",
       "</div>"
      ],
      "text/plain": [
       "                      Player  Share  predictions\n",
       "663             Nikola Jokić  0.875     0.190365\n",
       "837              Joel Embiid  0.706     0.190462\n",
       "11678  Giannis Antetokounmpo  0.595     0.219409\n",
       "907             Devin Booker  0.216     0.091309\n",
       "11469            Luka Dončić  0.146     0.157395\n",
       "1179            Jayson Tatum  0.043     0.095903\n",
       "12226              Ja Morant  0.010     0.120508\n",
       "6398           Stephen Curry  0.004     0.093137\n",
       "905               Chris Paul  0.002     0.078328\n",
       "8241            LeBron James  0.001     0.157827"
      ]
     },
     "execution_count": 25,
     "metadata": {},
     "output_type": "execute_result"
    }
   ],
   "source": [
    "combination.sort_values(\"Share\", ascending=False).head(10)"
   ]
  },
  {
   "cell_type": "code",
   "execution_count": 27,
   "id": "8ccc8e65-c87e-4ced-a047-d0fd6526cfdc",
   "metadata": {
    "tags": []
   },
   "outputs": [
    {
     "data": {
      "text/plain": [
       "0.0022400373201737723"
      ]
     },
     "execution_count": 27,
     "metadata": {},
     "output_type": "execute_result"
    }
   ],
   "source": [
    "#checking for errors\n",
    "from sklearn.metrics import mean_squared_error\n",
    "\n",
    "mean_squared_error(combination[\"Share\"], combination[\"predictions\"])"
   ]
  },
  {
   "cell_type": "code",
   "execution_count": 28,
   "id": "6ec4d1a7-dec9-44d3-8bfc-ec0d5de75efa",
   "metadata": {
    "tags": []
   },
   "outputs": [
    {
     "data": {
      "text/plain": [
       "0.000    593\n",
       "0.001      3\n",
       "0.875      1\n",
       "0.706      1\n",
       "0.002      1\n",
       "0.216      1\n",
       "0.043      1\n",
       "0.004      1\n",
       "0.146      1\n",
       "0.595      1\n",
       "0.010      1\n",
       "Name: Share, dtype: int64"
      ]
     },
     "execution_count": 28,
     "metadata": {},
     "output_type": "execute_result"
    }
   ],
   "source": [
    "combination[\"Share\"].value_counts()"
   ]
  },
  {
   "cell_type": "code",
   "execution_count": 29,
   "id": "c703a4ab-5c49-47fb-95b8-2feb56b38678",
   "metadata": {
    "tags": []
   },
   "outputs": [],
   "source": [
    "combination = combination.sort_values(\"Share\", ascending=False)\n",
    "combination[\"Rk\"] = list(range(1,combination.shape[0]+1))"
   ]
  },
  {
   "cell_type": "code",
   "execution_count": 30,
   "id": "f0104233-5615-4889-9356-d982b4b56963",
   "metadata": {
    "tags": []
   },
   "outputs": [
    {
     "data": {
      "text/html": [
       "<div>\n",
       "<style scoped>\n",
       "    .dataframe tbody tr th:only-of-type {\n",
       "        vertical-align: middle;\n",
       "    }\n",
       "\n",
       "    .dataframe tbody tr th {\n",
       "        vertical-align: top;\n",
       "    }\n",
       "\n",
       "    .dataframe thead th {\n",
       "        text-align: right;\n",
       "    }\n",
       "</style>\n",
       "<table border=\"1\" class=\"dataframe\">\n",
       "  <thead>\n",
       "    <tr style=\"text-align: right;\">\n",
       "      <th></th>\n",
       "      <th>Player</th>\n",
       "      <th>Share</th>\n",
       "      <th>predictions</th>\n",
       "      <th>Rk</th>\n",
       "    </tr>\n",
       "  </thead>\n",
       "  <tbody>\n",
       "    <tr>\n",
       "      <th>663</th>\n",
       "      <td>Nikola Jokić</td>\n",
       "      <td>0.875</td>\n",
       "      <td>0.190365</td>\n",
       "      <td>1</td>\n",
       "    </tr>\n",
       "    <tr>\n",
       "      <th>837</th>\n",
       "      <td>Joel Embiid</td>\n",
       "      <td>0.706</td>\n",
       "      <td>0.190462</td>\n",
       "      <td>2</td>\n",
       "    </tr>\n",
       "    <tr>\n",
       "      <th>11678</th>\n",
       "      <td>Giannis Antetokounmpo</td>\n",
       "      <td>0.595</td>\n",
       "      <td>0.219409</td>\n",
       "      <td>3</td>\n",
       "    </tr>\n",
       "    <tr>\n",
       "      <th>907</th>\n",
       "      <td>Devin Booker</td>\n",
       "      <td>0.216</td>\n",
       "      <td>0.091309</td>\n",
       "      <td>4</td>\n",
       "    </tr>\n",
       "    <tr>\n",
       "      <th>11469</th>\n",
       "      <td>Luka Dončić</td>\n",
       "      <td>0.146</td>\n",
       "      <td>0.157395</td>\n",
       "      <td>5</td>\n",
       "    </tr>\n",
       "    <tr>\n",
       "      <th>1179</th>\n",
       "      <td>Jayson Tatum</td>\n",
       "      <td>0.043</td>\n",
       "      <td>0.095903</td>\n",
       "      <td>6</td>\n",
       "    </tr>\n",
       "    <tr>\n",
       "      <th>12226</th>\n",
       "      <td>Ja Morant</td>\n",
       "      <td>0.010</td>\n",
       "      <td>0.120508</td>\n",
       "      <td>7</td>\n",
       "    </tr>\n",
       "    <tr>\n",
       "      <th>6398</th>\n",
       "      <td>Stephen Curry</td>\n",
       "      <td>0.004</td>\n",
       "      <td>0.093137</td>\n",
       "      <td>8</td>\n",
       "    </tr>\n",
       "    <tr>\n",
       "      <th>905</th>\n",
       "      <td>Chris Paul</td>\n",
       "      <td>0.002</td>\n",
       "      <td>0.078328</td>\n",
       "      <td>9</td>\n",
       "    </tr>\n",
       "    <tr>\n",
       "      <th>8241</th>\n",
       "      <td>LeBron James</td>\n",
       "      <td>0.001</td>\n",
       "      <td>0.157827</td>\n",
       "      <td>10</td>\n",
       "    </tr>\n",
       "  </tbody>\n",
       "</table>\n",
       "</div>"
      ],
      "text/plain": [
       "                      Player  Share  predictions  Rk\n",
       "663             Nikola Jokić  0.875     0.190365   1\n",
       "837              Joel Embiid  0.706     0.190462   2\n",
       "11678  Giannis Antetokounmpo  0.595     0.219409   3\n",
       "907             Devin Booker  0.216     0.091309   4\n",
       "11469            Luka Dončić  0.146     0.157395   5\n",
       "1179            Jayson Tatum  0.043     0.095903   6\n",
       "12226              Ja Morant  0.010     0.120508   7\n",
       "6398           Stephen Curry  0.004     0.093137   8\n",
       "905               Chris Paul  0.002     0.078328   9\n",
       "8241            LeBron James  0.001     0.157827  10"
      ]
     },
     "execution_count": 30,
     "metadata": {},
     "output_type": "execute_result"
    }
   ],
   "source": [
    "combination.head(10)"
   ]
  },
  {
   "cell_type": "code",
   "execution_count": 31,
   "id": "05e69de2-59f8-4cf3-aba4-d99fa818a441",
   "metadata": {
    "tags": []
   },
   "outputs": [],
   "source": [
    "combination = combination.sort_values(\"predictions\", ascending=False)\n",
    "combination[\"Predicted_Rk\"] = list(range(1,combination.shape[0]+1))"
   ]
  },
  {
   "cell_type": "code",
   "execution_count": 33,
   "id": "35af826c-2b0c-4171-9f94-549bf50da141",
   "metadata": {
    "tags": []
   },
   "outputs": [
    {
     "data": {
      "text/html": [
       "<div>\n",
       "<style scoped>\n",
       "    .dataframe tbody tr th:only-of-type {\n",
       "        vertical-align: middle;\n",
       "    }\n",
       "\n",
       "    .dataframe tbody tr th {\n",
       "        vertical-align: top;\n",
       "    }\n",
       "\n",
       "    .dataframe thead th {\n",
       "        text-align: right;\n",
       "    }\n",
       "</style>\n",
       "<table border=\"1\" class=\"dataframe\">\n",
       "  <thead>\n",
       "    <tr style=\"text-align: right;\">\n",
       "      <th></th>\n",
       "      <th>Player</th>\n",
       "      <th>Share</th>\n",
       "      <th>predictions</th>\n",
       "      <th>Rk</th>\n",
       "      <th>Predicted_Rk</th>\n",
       "    </tr>\n",
       "  </thead>\n",
       "  <tbody>\n",
       "    <tr>\n",
       "      <th>11678</th>\n",
       "      <td>Giannis Antetokounmpo</td>\n",
       "      <td>0.595</td>\n",
       "      <td>0.219409</td>\n",
       "      <td>3</td>\n",
       "      <td>1</td>\n",
       "    </tr>\n",
       "    <tr>\n",
       "      <th>837</th>\n",
       "      <td>Joel Embiid</td>\n",
       "      <td>0.706</td>\n",
       "      <td>0.190462</td>\n",
       "      <td>2</td>\n",
       "      <td>2</td>\n",
       "    </tr>\n",
       "    <tr>\n",
       "      <th>663</th>\n",
       "      <td>Nikola Jokić</td>\n",
       "      <td>0.875</td>\n",
       "      <td>0.190365</td>\n",
       "      <td>1</td>\n",
       "      <td>3</td>\n",
       "    </tr>\n",
       "    <tr>\n",
       "      <th>8241</th>\n",
       "      <td>LeBron James</td>\n",
       "      <td>0.001</td>\n",
       "      <td>0.157827</td>\n",
       "      <td>10</td>\n",
       "      <td>4</td>\n",
       "    </tr>\n",
       "    <tr>\n",
       "      <th>11469</th>\n",
       "      <td>Luka Dončić</td>\n",
       "      <td>0.146</td>\n",
       "      <td>0.157395</td>\n",
       "      <td>5</td>\n",
       "      <td>5</td>\n",
       "    </tr>\n",
       "    <tr>\n",
       "      <th>6185</th>\n",
       "      <td>Kevin Durant</td>\n",
       "      <td>0.001</td>\n",
       "      <td>0.140626</td>\n",
       "      <td>12</td>\n",
       "      <td>6</td>\n",
       "    </tr>\n",
       "    <tr>\n",
       "      <th>12226</th>\n",
       "      <td>Ja Morant</td>\n",
       "      <td>0.010</td>\n",
       "      <td>0.120508</td>\n",
       "      <td>7</td>\n",
       "      <td>7</td>\n",
       "    </tr>\n",
       "    <tr>\n",
       "      <th>11820</th>\n",
       "      <td>Trae Young</td>\n",
       "      <td>0.000</td>\n",
       "      <td>0.109246</td>\n",
       "      <td>289</td>\n",
       "      <td>8</td>\n",
       "    </tr>\n",
       "    <tr>\n",
       "      <th>8231</th>\n",
       "      <td>Anthony Davis</td>\n",
       "      <td>0.000</td>\n",
       "      <td>0.107306</td>\n",
       "      <td>112</td>\n",
       "      <td>9</td>\n",
       "    </tr>\n",
       "    <tr>\n",
       "      <th>836</th>\n",
       "      <td>James Harden</td>\n",
       "      <td>0.000</td>\n",
       "      <td>0.103584</td>\n",
       "      <td>393</td>\n",
       "      <td>10</td>\n",
       "    </tr>\n",
       "  </tbody>\n",
       "</table>\n",
       "</div>"
      ],
      "text/plain": [
       "                      Player  Share  predictions   Rk  Predicted_Rk\n",
       "11678  Giannis Antetokounmpo  0.595     0.219409    3             1\n",
       "837              Joel Embiid  0.706     0.190462    2             2\n",
       "663             Nikola Jokić  0.875     0.190365    1             3\n",
       "8241            LeBron James  0.001     0.157827   10             4\n",
       "11469            Luka Dončić  0.146     0.157395    5             5\n",
       "6185            Kevin Durant  0.001     0.140626   12             6\n",
       "12226              Ja Morant  0.010     0.120508    7             7\n",
       "11820             Trae Young  0.000     0.109246  289             8\n",
       "8231           Anthony Davis  0.000     0.107306  112             9\n",
       "836             James Harden  0.000     0.103584  393            10"
      ]
     },
     "execution_count": 33,
     "metadata": {},
     "output_type": "execute_result"
    }
   ],
   "source": [
    "combination.head(10)"
   ]
  },
  {
   "cell_type": "code",
   "execution_count": 34,
   "id": "7da4b5b9-e775-46f3-bda0-74cdc025387e",
   "metadata": {
    "tags": []
   },
   "outputs": [
    {
     "data": {
      "text/html": [
       "<div>\n",
       "<style scoped>\n",
       "    .dataframe tbody tr th:only-of-type {\n",
       "        vertical-align: middle;\n",
       "    }\n",
       "\n",
       "    .dataframe tbody tr th {\n",
       "        vertical-align: top;\n",
       "    }\n",
       "\n",
       "    .dataframe thead th {\n",
       "        text-align: right;\n",
       "    }\n",
       "</style>\n",
       "<table border=\"1\" class=\"dataframe\">\n",
       "  <thead>\n",
       "    <tr style=\"text-align: right;\">\n",
       "      <th></th>\n",
       "      <th>Player</th>\n",
       "      <th>Share</th>\n",
       "      <th>predictions</th>\n",
       "      <th>Rk</th>\n",
       "      <th>Predicted_Rk</th>\n",
       "    </tr>\n",
       "  </thead>\n",
       "  <tbody>\n",
       "    <tr>\n",
       "      <th>663</th>\n",
       "      <td>Nikola Jokić</td>\n",
       "      <td>0.875</td>\n",
       "      <td>0.190365</td>\n",
       "      <td>1</td>\n",
       "      <td>3</td>\n",
       "    </tr>\n",
       "    <tr>\n",
       "      <th>837</th>\n",
       "      <td>Joel Embiid</td>\n",
       "      <td>0.706</td>\n",
       "      <td>0.190462</td>\n",
       "      <td>2</td>\n",
       "      <td>2</td>\n",
       "    </tr>\n",
       "    <tr>\n",
       "      <th>11678</th>\n",
       "      <td>Giannis Antetokounmpo</td>\n",
       "      <td>0.595</td>\n",
       "      <td>0.219409</td>\n",
       "      <td>3</td>\n",
       "      <td>1</td>\n",
       "    </tr>\n",
       "    <tr>\n",
       "      <th>907</th>\n",
       "      <td>Devin Booker</td>\n",
       "      <td>0.216</td>\n",
       "      <td>0.091309</td>\n",
       "      <td>4</td>\n",
       "      <td>17</td>\n",
       "    </tr>\n",
       "    <tr>\n",
       "      <th>11469</th>\n",
       "      <td>Luka Dončić</td>\n",
       "      <td>0.146</td>\n",
       "      <td>0.157395</td>\n",
       "      <td>5</td>\n",
       "      <td>5</td>\n",
       "    </tr>\n",
       "    <tr>\n",
       "      <th>1179</th>\n",
       "      <td>Jayson Tatum</td>\n",
       "      <td>0.043</td>\n",
       "      <td>0.095903</td>\n",
       "      <td>6</td>\n",
       "      <td>13</td>\n",
       "    </tr>\n",
       "    <tr>\n",
       "      <th>12226</th>\n",
       "      <td>Ja Morant</td>\n",
       "      <td>0.010</td>\n",
       "      <td>0.120508</td>\n",
       "      <td>7</td>\n",
       "      <td>7</td>\n",
       "    </tr>\n",
       "    <tr>\n",
       "      <th>6398</th>\n",
       "      <td>Stephen Curry</td>\n",
       "      <td>0.004</td>\n",
       "      <td>0.093137</td>\n",
       "      <td>8</td>\n",
       "      <td>15</td>\n",
       "    </tr>\n",
       "    <tr>\n",
       "      <th>905</th>\n",
       "      <td>Chris Paul</td>\n",
       "      <td>0.002</td>\n",
       "      <td>0.078328</td>\n",
       "      <td>9</td>\n",
       "      <td>21</td>\n",
       "    </tr>\n",
       "    <tr>\n",
       "      <th>3938</th>\n",
       "      <td>DeMar DeRozan</td>\n",
       "      <td>0.001</td>\n",
       "      <td>0.099240</td>\n",
       "      <td>11</td>\n",
       "      <td>11</td>\n",
       "    </tr>\n",
       "  </tbody>\n",
       "</table>\n",
       "</div>"
      ],
      "text/plain": [
       "                      Player  Share  predictions  Rk  Predicted_Rk\n",
       "663             Nikola Jokić  0.875     0.190365   1             3\n",
       "837              Joel Embiid  0.706     0.190462   2             2\n",
       "11678  Giannis Antetokounmpo  0.595     0.219409   3             1\n",
       "907             Devin Booker  0.216     0.091309   4            17\n",
       "11469            Luka Dončić  0.146     0.157395   5             5\n",
       "1179            Jayson Tatum  0.043     0.095903   6            13\n",
       "12226              Ja Morant  0.010     0.120508   7             7\n",
       "6398           Stephen Curry  0.004     0.093137   8            15\n",
       "905               Chris Paul  0.002     0.078328   9            21\n",
       "3938           DeMar DeRozan  0.001     0.099240  11            11"
      ]
     },
     "execution_count": 34,
     "metadata": {},
     "output_type": "execute_result"
    }
   ],
   "source": [
    "combination.sort_values(\"Share\", ascending=False).head(10)"
   ]
  },
  {
   "cell_type": "code",
   "execution_count": 41,
   "id": "d5453fa4-0866-4805-b992-1a8d8cff6aab",
   "metadata": {
    "tags": []
   },
   "outputs": [],
   "source": [
    "def find_ap(combination):\n",
    "    actual = combination.sort_values(\"Share\", ascending=False).head(5)\n",
    "    predicted = combination.sort_values(\"predictions\", ascending=False)\n",
    "    ps = []\n",
    "    found = 0 \n",
    "    seen = 1\n",
    "    for index, row in predicted.iterrows():\n",
    "        if row[\"Player\"] in actual[\"Player\"].values:\n",
    "            found += 1\n",
    "            ps.append(found/seen)\n",
    "        seen += 1\n",
    "    return sum(ps) / len(ps)"
   ]
  },
  {
   "cell_type": "code",
   "execution_count": 42,
   "id": "08ccd18b-27a1-4b8c-bcfa-dfeb702103f2",
   "metadata": {
    "tags": []
   },
   "outputs": [
    {
     "data": {
      "text/plain": [
       "0.8188235294117646"
      ]
     },
     "execution_count": 42,
     "metadata": {},
     "output_type": "execute_result"
    }
   ],
   "source": [
    "find_ap(combination)"
   ]
  },
  {
   "cell_type": "code",
   "execution_count": 43,
   "id": "7149313a-1fa6-49c8-95a7-fa2f953fec45",
   "metadata": {
    "tags": []
   },
   "outputs": [],
   "source": [
    "#implement backtesting to predict each year\n",
    "years = list(range(1991,2023))"
   ]
  },
  {
   "cell_type": "code",
   "execution_count": 44,
   "id": "181f57c8-58a3-4cd9-b707-17faf5cb77b8",
   "metadata": {
    "tags": []
   },
   "outputs": [],
   "source": [
    "aps = []\n",
    "all_predictions = []\n",
    "for year in years[5:]:\n",
    "    train = stats[stats[\"Year\"] < year]\n",
    "    test = stats[stats[\"Year\"] == year]\n",
    "    reg.fit(train[predictors], train[\"Share\"])\n",
    "    predictions = reg.predict(test[predictors])\n",
    "    predictions = pd.DataFrame(predictions, columns=[\"predictions\"], index=test.index)\n",
    "    combination = pd.concat([test[[\"Player\", \"Share\"]], predictions], axis=1)\n",
    "    all_predictions.append(combination)\n",
    "    aps.append(find_ap(combination))"
   ]
  },
  {
   "cell_type": "code",
   "execution_count": 45,
   "id": "eaea763f-d6af-4d42-981e-5ac89eef4f54",
   "metadata": {
    "tags": []
   },
   "outputs": [
    {
     "data": {
      "text/plain": [
       "0.7152712173135063"
      ]
     },
     "execution_count": 45,
     "metadata": {},
     "output_type": "execute_result"
    }
   ],
   "source": [
    "sum(aps) / len(aps)"
   ]
  },
  {
   "cell_type": "code",
   "execution_count": 48,
   "id": "8a4c1d93-2c1e-4492-97b8-4a3a0b120886",
   "metadata": {
    "tags": []
   },
   "outputs": [],
   "source": [
    "def add_ranks(combination):\n",
    "    combination = combination.sort_values(\"Share\", ascending=False)\n",
    "    combination[\"Rk\"] = list(range(1,combination.shape[0]+1))\n",
    "    combination = combination.sort_values(\"predictions\", ascending=False)\n",
    "    combination[\"Predicted_Rk\"] = list(range(1,combination.shape[0]+1))\n",
    "    combination[\"Diff\"] = combination[\"Rk\"] - combination[\"Predicted_Rk\"]\n",
    "    return combination"
   ]
  },
  {
   "cell_type": "code",
   "execution_count": 53,
   "id": "fb974bb9-0d01-4ac9-ab2d-2022888af769",
   "metadata": {
    "tags": []
   },
   "outputs": [
    {
     "data": {
      "text/html": [
       "<div>\n",
       "<style scoped>\n",
       "    .dataframe tbody tr th:only-of-type {\n",
       "        vertical-align: middle;\n",
       "    }\n",
       "\n",
       "    .dataframe tbody tr th {\n",
       "        vertical-align: top;\n",
       "    }\n",
       "\n",
       "    .dataframe thead th {\n",
       "        text-align: right;\n",
       "    }\n",
       "</style>\n",
       "<table border=\"1\" class=\"dataframe\">\n",
       "  <thead>\n",
       "    <tr style=\"text-align: right;\">\n",
       "      <th></th>\n",
       "      <th>Player</th>\n",
       "      <th>Share</th>\n",
       "      <th>predictions</th>\n",
       "      <th>Rk</th>\n",
       "      <th>Predicted_Rk</th>\n",
       "      <th>Diff</th>\n",
       "    </tr>\n",
       "  </thead>\n",
       "  <tbody>\n",
       "    <tr>\n",
       "      <th>1710</th>\n",
       "      <td>Karl Malone</td>\n",
       "      <td>0.857</td>\n",
       "      <td>0.192318</td>\n",
       "      <td>1</td>\n",
       "      <td>2</td>\n",
       "      <td>-1</td>\n",
       "    </tr>\n",
       "    <tr>\n",
       "      <th>10976</th>\n",
       "      <td>Michael Jordan</td>\n",
       "      <td>0.832</td>\n",
       "      <td>0.167629</td>\n",
       "      <td>2</td>\n",
       "      <td>3</td>\n",
       "      <td>-1</td>\n",
       "    </tr>\n",
       "    <tr>\n",
       "      <th>970</th>\n",
       "      <td>Grant Hill</td>\n",
       "      <td>0.327</td>\n",
       "      <td>0.128646</td>\n",
       "      <td>3</td>\n",
       "      <td>6</td>\n",
       "      <td>-3</td>\n",
       "    </tr>\n",
       "    <tr>\n",
       "      <th>4912</th>\n",
       "      <td>Tim Hardaway</td>\n",
       "      <td>0.207</td>\n",
       "      <td>0.059984</td>\n",
       "      <td>4</td>\n",
       "      <td>20</td>\n",
       "      <td>-16</td>\n",
       "    </tr>\n",
       "    <tr>\n",
       "      <th>8642</th>\n",
       "      <td>Glen Rice</td>\n",
       "      <td>0.117</td>\n",
       "      <td>0.033110</td>\n",
       "      <td>5</td>\n",
       "      <td>53</td>\n",
       "      <td>-48</td>\n",
       "    </tr>\n",
       "  </tbody>\n",
       "</table>\n",
       "</div>"
      ],
      "text/plain": [
       "               Player  Share  predictions  Rk  Predicted_Rk  Diff\n",
       "1710      Karl Malone  0.857     0.192318   1             2    -1\n",
       "10976  Michael Jordan  0.832     0.167629   2             3    -1\n",
       "970        Grant Hill  0.327     0.128646   3             6    -3\n",
       "4912     Tim Hardaway  0.207     0.059984   4            20   -16\n",
       "8642        Glen Rice  0.117     0.033110   5            53   -48"
      ]
     },
     "execution_count": 53,
     "metadata": {},
     "output_type": "execute_result"
    }
   ],
   "source": [
    "ranking = add_ranks(all_predictions[1])\n",
    "ranking[ranking[\"Rk\"] < 6].sort_values(\"Diff\", ascending=False)"
   ]
  },
  {
   "cell_type": "code",
   "execution_count": 55,
   "id": "91c192d6-cb15-4d57-9fd0-5a930a507737",
   "metadata": {
    "tags": []
   },
   "outputs": [],
   "source": [
    "def backtest(stats, model, year, predictors):\n",
    "    aps = []\n",
    "    all_predictions = []\n",
    "    for year in years[5:]:\n",
    "        train = stats[stats[\"Year\"] < year]\n",
    "        test = stats[stats[\"Year\"] == year]\n",
    "        model.fit(train[predictors], train[\"Share\"])\n",
    "        predictions = reg.predict(test[predictors])\n",
    "        predictions = pd.DataFrame(predictions, columns=[\"predictions\"], index=test.index)\n",
    "        combination = pd.concat([test[[\"Player\", \"Share\"]], predictions], axis=1)\n",
    "        combination = add_ranks(combination)\n",
    "        all_predictions.append(combination)\n",
    "        aps.append(find_ap(combination))\n",
    "    return sum(aps)/len(aps), aps, pd.concat(all_predictions)"
   ]
  },
  {
   "cell_type": "code",
   "execution_count": 57,
   "id": "b0b93aba-b835-4c06-8d08-cb19e6772aa8",
   "metadata": {
    "tags": []
   },
   "outputs": [],
   "source": [
    "mean_ap, aps, all_predictions = backtest(stats, reg, years[5:], predictors)"
   ]
  },
  {
   "cell_type": "code",
   "execution_count": 58,
   "id": "7b202b84-aff5-4c75-bff6-ff2861c8e428",
   "metadata": {
    "tags": []
   },
   "outputs": [
    {
     "data": {
      "text/plain": [
       "0.7152712173135063"
      ]
     },
     "execution_count": 58,
     "metadata": {},
     "output_type": "execute_result"
    }
   ],
   "source": [
    "mean_ap"
   ]
  },
  {
   "cell_type": "code",
   "execution_count": 59,
   "id": "652ccb57-ab45-49ff-ae9e-84da48a2a4e0",
   "metadata": {
    "tags": []
   },
   "outputs": [],
   "source": [
    "#diagnose model performance"
   ]
  },
  {
   "cell_type": "code",
   "execution_count": 60,
   "id": "402cb2bd-5512-49a0-a116-85b0f94a7167",
   "metadata": {
    "tags": []
   },
   "outputs": [
    {
     "data": {
      "text/html": [
       "<div>\n",
       "<style scoped>\n",
       "    .dataframe tbody tr th:only-of-type {\n",
       "        vertical-align: middle;\n",
       "    }\n",
       "\n",
       "    .dataframe tbody tr th {\n",
       "        vertical-align: top;\n",
       "    }\n",
       "\n",
       "    .dataframe thead th {\n",
       "        text-align: right;\n",
       "    }\n",
       "</style>\n",
       "<table border=\"1\" class=\"dataframe\">\n",
       "  <thead>\n",
       "    <tr style=\"text-align: right;\">\n",
       "      <th></th>\n",
       "      <th>Player</th>\n",
       "      <th>Share</th>\n",
       "      <th>predictions</th>\n",
       "      <th>Rk</th>\n",
       "      <th>Predicted_Rk</th>\n",
       "      <th>Diff</th>\n",
       "    </tr>\n",
       "  </thead>\n",
       "  <tbody>\n",
       "    <tr>\n",
       "      <th>1334</th>\n",
       "      <td>Jason Kidd</td>\n",
       "      <td>0.712</td>\n",
       "      <td>0.028210</td>\n",
       "      <td>2</td>\n",
       "      <td>52</td>\n",
       "      <td>-50</td>\n",
       "    </tr>\n",
       "    <tr>\n",
       "      <th>8642</th>\n",
       "      <td>Glen Rice</td>\n",
       "      <td>0.117</td>\n",
       "      <td>0.033110</td>\n",
       "      <td>5</td>\n",
       "      <td>53</td>\n",
       "      <td>-48</td>\n",
       "    </tr>\n",
       "    <tr>\n",
       "      <th>5420</th>\n",
       "      <td>Steve Nash</td>\n",
       "      <td>0.839</td>\n",
       "      <td>0.034100</td>\n",
       "      <td>1</td>\n",
       "      <td>45</td>\n",
       "      <td>-44</td>\n",
       "    </tr>\n",
       "    <tr>\n",
       "      <th>8910</th>\n",
       "      <td>Peja Stojaković</td>\n",
       "      <td>0.228</td>\n",
       "      <td>0.036270</td>\n",
       "      <td>4</td>\n",
       "      <td>38</td>\n",
       "      <td>-34</td>\n",
       "    </tr>\n",
       "    <tr>\n",
       "      <th>13331</th>\n",
       "      <td>Joakim Noah</td>\n",
       "      <td>0.258</td>\n",
       "      <td>0.046968</td>\n",
       "      <td>4</td>\n",
       "      <td>37</td>\n",
       "      <td>-33</td>\n",
       "    </tr>\n",
       "    <tr>\n",
       "      <th>5438</th>\n",
       "      <td>Steve Nash</td>\n",
       "      <td>0.739</td>\n",
       "      <td>0.054129</td>\n",
       "      <td>1</td>\n",
       "      <td>34</td>\n",
       "      <td>-33</td>\n",
       "    </tr>\n",
       "    <tr>\n",
       "      <th>3849</th>\n",
       "      <td>Chauncey Billups</td>\n",
       "      <td>0.344</td>\n",
       "      <td>0.052696</td>\n",
       "      <td>5</td>\n",
       "      <td>35</td>\n",
       "      <td>-30</td>\n",
       "    </tr>\n",
       "    <tr>\n",
       "      <th>1499</th>\n",
       "      <td>Chris Paul</td>\n",
       "      <td>0.138</td>\n",
       "      <td>0.072293</td>\n",
       "      <td>5</td>\n",
       "      <td>33</td>\n",
       "      <td>-28</td>\n",
       "    </tr>\n",
       "    <tr>\n",
       "      <th>5453</th>\n",
       "      <td>Steve Nash</td>\n",
       "      <td>0.785</td>\n",
       "      <td>0.074421</td>\n",
       "      <td>2</td>\n",
       "      <td>21</td>\n",
       "      <td>-19</td>\n",
       "    </tr>\n",
       "    <tr>\n",
       "      <th>4912</th>\n",
       "      <td>Tim Hardaway</td>\n",
       "      <td>0.207</td>\n",
       "      <td>0.059984</td>\n",
       "      <td>4</td>\n",
       "      <td>20</td>\n",
       "      <td>-16</td>\n",
       "    </tr>\n",
       "  </tbody>\n",
       "</table>\n",
       "</div>"
      ],
      "text/plain": [
       "                 Player  Share  predictions  Rk  Predicted_Rk  Diff\n",
       "1334         Jason Kidd  0.712     0.028210   2            52   -50\n",
       "8642          Glen Rice  0.117     0.033110   5            53   -48\n",
       "5420         Steve Nash  0.839     0.034100   1            45   -44\n",
       "8910    Peja Stojaković  0.228     0.036270   4            38   -34\n",
       "13331       Joakim Noah  0.258     0.046968   4            37   -33\n",
       "5438         Steve Nash  0.739     0.054129   1            34   -33\n",
       "3849   Chauncey Billups  0.344     0.052696   5            35   -30\n",
       "1499         Chris Paul  0.138     0.072293   5            33   -28\n",
       "5453         Steve Nash  0.785     0.074421   2            21   -19\n",
       "4912       Tim Hardaway  0.207     0.059984   4            20   -16"
      ]
     },
     "execution_count": 60,
     "metadata": {},
     "output_type": "execute_result"
    }
   ],
   "source": [
    "all_predictions[all_predictions[\"Rk\"] <= 5].sort_values(\"Diff\").head(10)"
   ]
  },
  {
   "cell_type": "code",
   "execution_count": 66,
   "id": "8a6d40fe-c77e-4bb7-915d-baacaadc42eb",
   "metadata": {
    "tags": []
   },
   "outputs": [
    {
     "data": {
      "text/html": [
       "<div>\n",
       "<style scoped>\n",
       "    .dataframe tbody tr th:only-of-type {\n",
       "        vertical-align: middle;\n",
       "    }\n",
       "\n",
       "    .dataframe tbody tr th {\n",
       "        vertical-align: top;\n",
       "    }\n",
       "\n",
       "    .dataframe thead th {\n",
       "        text-align: right;\n",
       "    }\n",
       "</style>\n",
       "<table border=\"1\" class=\"dataframe\">\n",
       "  <thead>\n",
       "    <tr style=\"text-align: right;\">\n",
       "      <th></th>\n",
       "      <th>0</th>\n",
       "      <th>1</th>\n",
       "    </tr>\n",
       "  </thead>\n",
       "  <tbody>\n",
       "    <tr>\n",
       "      <th>13</th>\n",
       "      <td>0.087852</td>\n",
       "      <td>eFG%</td>\n",
       "    </tr>\n",
       "    <tr>\n",
       "      <th>18</th>\n",
       "      <td>0.033860</td>\n",
       "      <td>DRB</td>\n",
       "    </tr>\n",
       "    <tr>\n",
       "      <th>29</th>\n",
       "      <td>0.023202</td>\n",
       "      <td>W/L%</td>\n",
       "    </tr>\n",
       "    <tr>\n",
       "      <th>17</th>\n",
       "      <td>0.020993</td>\n",
       "      <td>ORB</td>\n",
       "    </tr>\n",
       "    <tr>\n",
       "      <th>10</th>\n",
       "      <td>0.016456</td>\n",
       "      <td>2P</td>\n",
       "    </tr>\n",
       "    <tr>\n",
       "      <th>21</th>\n",
       "      <td>0.012070</td>\n",
       "      <td>STL</td>\n",
       "    </tr>\n",
       "    <tr>\n",
       "      <th>22</th>\n",
       "      <td>0.010901</td>\n",
       "      <td>BLK</td>\n",
       "    </tr>\n",
       "    <tr>\n",
       "      <th>15</th>\n",
       "      <td>0.010414</td>\n",
       "      <td>FTA</td>\n",
       "    </tr>\n",
       "    <tr>\n",
       "      <th>20</th>\n",
       "      <td>0.007113</td>\n",
       "      <td>AST</td>\n",
       "    </tr>\n",
       "    <tr>\n",
       "      <th>12</th>\n",
       "      <td>0.007052</td>\n",
       "      <td>2P%</td>\n",
       "    </tr>\n",
       "    <tr>\n",
       "      <th>25</th>\n",
       "      <td>0.006918</td>\n",
       "      <td>PTS</td>\n",
       "    </tr>\n",
       "    <tr>\n",
       "      <th>5</th>\n",
       "      <td>0.004827</td>\n",
       "      <td>FGA</td>\n",
       "    </tr>\n",
       "    <tr>\n",
       "      <th>4</th>\n",
       "      <td>0.003352</td>\n",
       "      <td>FG</td>\n",
       "    </tr>\n",
       "    <tr>\n",
       "      <th>7</th>\n",
       "      <td>0.001701</td>\n",
       "      <td>3P</td>\n",
       "    </tr>\n",
       "    <tr>\n",
       "      <th>0</th>\n",
       "      <td>0.000294</td>\n",
       "      <td>Age</td>\n",
       "    </tr>\n",
       "    <tr>\n",
       "      <th>30</th>\n",
       "      <td>0.000279</td>\n",
       "      <td>GB</td>\n",
       "    </tr>\n",
       "    <tr>\n",
       "      <th>27</th>\n",
       "      <td>0.000136</td>\n",
       "      <td>W</td>\n",
       "    </tr>\n",
       "    <tr>\n",
       "      <th>1</th>\n",
       "      <td>0.000093</td>\n",
       "      <td>G</td>\n",
       "    </tr>\n",
       "    <tr>\n",
       "      <th>2</th>\n",
       "      <td>0.000004</td>\n",
       "      <td>GS</td>\n",
       "    </tr>\n",
       "    <tr>\n",
       "      <th>26</th>\n",
       "      <td>-0.000180</td>\n",
       "      <td>Year</td>\n",
       "    </tr>\n",
       "    <tr>\n",
       "      <th>32</th>\n",
       "      <td>-0.000275</td>\n",
       "      <td>PA/G</td>\n",
       "    </tr>\n",
       "    <tr>\n",
       "      <th>28</th>\n",
       "      <td>-0.000316</td>\n",
       "      <td>L</td>\n",
       "    </tr>\n",
       "    <tr>\n",
       "      <th>31</th>\n",
       "      <td>-0.000494</td>\n",
       "      <td>PS/G</td>\n",
       "    </tr>\n",
       "    <tr>\n",
       "      <th>33</th>\n",
       "      <td>-0.000569</td>\n",
       "      <td>SRS</td>\n",
       "    </tr>\n",
       "    <tr>\n",
       "      <th>24</th>\n",
       "      <td>-0.002625</td>\n",
       "      <td>PF</td>\n",
       "    </tr>\n",
       "    <tr>\n",
       "      <th>3</th>\n",
       "      <td>-0.004067</td>\n",
       "      <td>MP</td>\n",
       "    </tr>\n",
       "    <tr>\n",
       "      <th>16</th>\n",
       "      <td>-0.004783</td>\n",
       "      <td>FT%</td>\n",
       "    </tr>\n",
       "    <tr>\n",
       "      <th>14</th>\n",
       "      <td>-0.006344</td>\n",
       "      <td>FT</td>\n",
       "    </tr>\n",
       "    <tr>\n",
       "      <th>23</th>\n",
       "      <td>-0.009143</td>\n",
       "      <td>TOV</td>\n",
       "    </tr>\n",
       "    <tr>\n",
       "      <th>8</th>\n",
       "      <td>-0.009681</td>\n",
       "      <td>3PA</td>\n",
       "    </tr>\n",
       "    <tr>\n",
       "      <th>9</th>\n",
       "      <td>-0.009695</td>\n",
       "      <td>3P%</td>\n",
       "    </tr>\n",
       "    <tr>\n",
       "      <th>11</th>\n",
       "      <td>-0.016464</td>\n",
       "      <td>2PA</td>\n",
       "    </tr>\n",
       "    <tr>\n",
       "      <th>19</th>\n",
       "      <td>-0.026578</td>\n",
       "      <td>TRB</td>\n",
       "    </tr>\n",
       "    <tr>\n",
       "      <th>6</th>\n",
       "      <td>-0.155934</td>\n",
       "      <td>FG%</td>\n",
       "    </tr>\n",
       "  </tbody>\n",
       "</table>\n",
       "</div>"
      ],
      "text/plain": [
       "           0     1\n",
       "13  0.087852  eFG%\n",
       "18  0.033860   DRB\n",
       "29  0.023202  W/L%\n",
       "17  0.020993   ORB\n",
       "10  0.016456    2P\n",
       "21  0.012070   STL\n",
       "22  0.010901   BLK\n",
       "15  0.010414   FTA\n",
       "20  0.007113   AST\n",
       "12  0.007052   2P%\n",
       "25  0.006918   PTS\n",
       "5   0.004827   FGA\n",
       "4   0.003352    FG\n",
       "7   0.001701    3P\n",
       "0   0.000294   Age\n",
       "30  0.000279    GB\n",
       "27  0.000136     W\n",
       "1   0.000093     G\n",
       "2   0.000004    GS\n",
       "26 -0.000180  Year\n",
       "32 -0.000275  PA/G\n",
       "28 -0.000316     L\n",
       "31 -0.000494  PS/G\n",
       "33 -0.000569   SRS\n",
       "24 -0.002625    PF\n",
       "3  -0.004067    MP\n",
       "16 -0.004783   FT%\n",
       "14 -0.006344    FT\n",
       "23 -0.009143   TOV\n",
       "8  -0.009681   3PA\n",
       "9  -0.009695   3P%\n",
       "11 -0.016464   2PA\n",
       "19 -0.026578   TRB\n",
       "6  -0.155934   FG%"
      ]
     },
     "execution_count": 66,
     "metadata": {},
     "output_type": "execute_result"
    }
   ],
   "source": [
    "pd.concat([pd.Series(reg.coef_), pd.Series(predictors)], axis=1).sort_values(0, ascending=False)"
   ]
  },
  {
   "cell_type": "code",
   "execution_count": 70,
   "id": "aa922696-dc94-4005-8790-9fe2edbf3ea7",
   "metadata": {
    "tags": []
   },
   "outputs": [
    {
     "name": "stderr",
     "output_type": "stream",
     "text": [
      "/var/folders/mx/p_dw3l351sb1h38x8l37yfdw0000gn/T/ipykernel_1091/2022889540.py:1: FutureWarning: Not prepending group keys to the result index of transform-like apply. In the future, the group keys will be included in the index, regardless of whether the applied function returns a like-indexed object.\n",
      "To preserve the previous behavior, use\n",
      "\n",
      "\t>>> .groupby(..., group_keys=False)\n",
      "\n",
      "To adopt the future behavior and silence this warning, use \n",
      "\n",
      "\t>>> .groupby(..., group_keys=True)\n",
      "  stat_ratios = stats[[\"PTS\", \"AST\", \"STL\", \"BLK\", \"3P\", \"Year\"]].groupby(\"Year\").apply(lambda x: x/x.mean())\n"
     ]
    }
   ],
   "source": [
    "stat_ratios = stats[[\"PTS\", \"AST\", \"STL\", \"BLK\", \"3P\", \"Year\"]].groupby(\"Year\").apply(lambda x: x/x.mean())"
   ]
  },
  {
   "cell_type": "code",
   "execution_count": 71,
   "id": "d8716807-fed8-41b4-8d5b-627877b8caac",
   "metadata": {
    "tags": []
   },
   "outputs": [
    {
     "data": {
      "text/html": [
       "<div>\n",
       "<style scoped>\n",
       "    .dataframe tbody tr th:only-of-type {\n",
       "        vertical-align: middle;\n",
       "    }\n",
       "\n",
       "    .dataframe tbody tr th {\n",
       "        vertical-align: top;\n",
       "    }\n",
       "\n",
       "    .dataframe thead th {\n",
       "        text-align: right;\n",
       "    }\n",
       "</style>\n",
       "<table border=\"1\" class=\"dataframe\">\n",
       "  <thead>\n",
       "    <tr style=\"text-align: right;\">\n",
       "      <th></th>\n",
       "      <th>PTS</th>\n",
       "      <th>AST</th>\n",
       "      <th>STL</th>\n",
       "      <th>BLK</th>\n",
       "      <th>3P</th>\n",
       "      <th>Year</th>\n",
       "    </tr>\n",
       "  </thead>\n",
       "  <tbody>\n",
       "    <tr>\n",
       "      <th>0</th>\n",
       "      <td>1.013334</td>\n",
       "      <td>0.420714</td>\n",
       "      <td>0.961127</td>\n",
       "      <td>0.673469</td>\n",
       "      <td>0.508587</td>\n",
       "      <td>1.0</td>\n",
       "    </tr>\n",
       "    <tr>\n",
       "      <th>1</th>\n",
       "      <td>1.614653</td>\n",
       "      <td>1.028412</td>\n",
       "      <td>1.647646</td>\n",
       "      <td>0.673469</td>\n",
       "      <td>4.577279</td>\n",
       "      <td>1.0</td>\n",
       "    </tr>\n",
       "    <tr>\n",
       "      <th>2</th>\n",
       "      <td>0.311795</td>\n",
       "      <td>0.093492</td>\n",
       "      <td>0.274608</td>\n",
       "      <td>1.571429</td>\n",
       "      <td>0.000000</td>\n",
       "      <td>1.0</td>\n",
       "    </tr>\n",
       "    <tr>\n",
       "      <th>3</th>\n",
       "      <td>0.200440</td>\n",
       "      <td>0.186984</td>\n",
       "      <td>0.274608</td>\n",
       "      <td>0.000000</td>\n",
       "      <td>0.000000</td>\n",
       "      <td>1.0</td>\n",
       "    </tr>\n",
       "    <tr>\n",
       "      <th>4</th>\n",
       "      <td>2.383005</td>\n",
       "      <td>1.636110</td>\n",
       "      <td>1.784950</td>\n",
       "      <td>0.897959</td>\n",
       "      <td>1.525760</td>\n",
       "      <td>1.0</td>\n",
       "    </tr>\n",
       "    <tr>\n",
       "      <th>...</th>\n",
       "      <td>...</td>\n",
       "      <td>...</td>\n",
       "      <td>...</td>\n",
       "      <td>...</td>\n",
       "      <td>...</td>\n",
       "      <td>...</td>\n",
       "    </tr>\n",
       "    <tr>\n",
       "      <th>14692</th>\n",
       "      <td>0.735752</td>\n",
       "      <td>0.819562</td>\n",
       "      <td>0.479763</td>\n",
       "      <td>1.528302</td>\n",
       "      <td>0.650951</td>\n",
       "      <td>1.0</td>\n",
       "    </tr>\n",
       "    <tr>\n",
       "      <th>14693</th>\n",
       "      <td>0.071202</td>\n",
       "      <td>0.000000</td>\n",
       "      <td>0.000000</td>\n",
       "      <td>0.000000</td>\n",
       "      <td>0.130190</td>\n",
       "      <td>1.0</td>\n",
       "    </tr>\n",
       "    <tr>\n",
       "      <th>14694</th>\n",
       "      <td>1.281633</td>\n",
       "      <td>0.601012</td>\n",
       "      <td>1.119447</td>\n",
       "      <td>2.547170</td>\n",
       "      <td>0.520761</td>\n",
       "      <td>1.0</td>\n",
       "    </tr>\n",
       "    <tr>\n",
       "      <th>14695</th>\n",
       "      <td>0.474679</td>\n",
       "      <td>0.218550</td>\n",
       "      <td>0.319842</td>\n",
       "      <td>1.273585</td>\n",
       "      <td>0.650951</td>\n",
       "      <td>1.0</td>\n",
       "    </tr>\n",
       "    <tr>\n",
       "      <th>14696</th>\n",
       "      <td>1.008693</td>\n",
       "      <td>0.655649</td>\n",
       "      <td>1.119447</td>\n",
       "      <td>0.509434</td>\n",
       "      <td>2.343424</td>\n",
       "      <td>1.0</td>\n",
       "    </tr>\n",
       "  </tbody>\n",
       "</table>\n",
       "<p>14697 rows × 6 columns</p>\n",
       "</div>"
      ],
      "text/plain": [
       "            PTS       AST       STL       BLK        3P  Year\n",
       "0      1.013334  0.420714  0.961127  0.673469  0.508587   1.0\n",
       "1      1.614653  1.028412  1.647646  0.673469  4.577279   1.0\n",
       "2      0.311795  0.093492  0.274608  1.571429  0.000000   1.0\n",
       "3      0.200440  0.186984  0.274608  0.000000  0.000000   1.0\n",
       "4      2.383005  1.636110  1.784950  0.897959  1.525760   1.0\n",
       "...         ...       ...       ...       ...       ...   ...\n",
       "14692  0.735752  0.819562  0.479763  1.528302  0.650951   1.0\n",
       "14693  0.071202  0.000000  0.000000  0.000000  0.130190   1.0\n",
       "14694  1.281633  0.601012  1.119447  2.547170  0.520761   1.0\n",
       "14695  0.474679  0.218550  0.319842  1.273585  0.650951   1.0\n",
       "14696  1.008693  0.655649  1.119447  0.509434  2.343424   1.0\n",
       "\n",
       "[14697 rows x 6 columns]"
      ]
     },
     "execution_count": 71,
     "metadata": {},
     "output_type": "execute_result"
    }
   ],
   "source": [
    "stat_ratios"
   ]
  },
  {
   "cell_type": "code",
   "execution_count": 73,
   "id": "a022e05d-4a21-4f89-bec3-9a456cdf4cb2",
   "metadata": {
    "tags": []
   },
   "outputs": [],
   "source": [
    "stats[[\"PTS_T\", \"AST_R\", \"STL_R\", \"BLK_R\", \"3P_R\"]] = stat_ratios[[\"PTS\", \"AST\", \"STL\", \"BLK\", \"3P\"]]"
   ]
  },
  {
   "cell_type": "code",
   "execution_count": 74,
   "id": "86abaee0-705d-4b2c-95ff-f5e876e2246b",
   "metadata": {
    "tags": []
   },
   "outputs": [
    {
     "data": {
      "text/html": [
       "<div>\n",
       "<style scoped>\n",
       "    .dataframe tbody tr th:only-of-type {\n",
       "        vertical-align: middle;\n",
       "    }\n",
       "\n",
       "    .dataframe tbody tr th {\n",
       "        vertical-align: top;\n",
       "    }\n",
       "\n",
       "    .dataframe thead th {\n",
       "        text-align: right;\n",
       "    }\n",
       "</style>\n",
       "<table border=\"1\" class=\"dataframe\">\n",
       "  <thead>\n",
       "    <tr style=\"text-align: right;\">\n",
       "      <th></th>\n",
       "      <th>Player</th>\n",
       "      <th>Pos</th>\n",
       "      <th>Age</th>\n",
       "      <th>Tm</th>\n",
       "      <th>G</th>\n",
       "      <th>GS</th>\n",
       "      <th>MP</th>\n",
       "      <th>FG</th>\n",
       "      <th>FGA</th>\n",
       "      <th>FG%</th>\n",
       "      <th>...</th>\n",
       "      <th>W/L%</th>\n",
       "      <th>GB</th>\n",
       "      <th>PS/G</th>\n",
       "      <th>PA/G</th>\n",
       "      <th>SRS</th>\n",
       "      <th>PTS_T</th>\n",
       "      <th>AST_R</th>\n",
       "      <th>STL_R</th>\n",
       "      <th>BLK_R</th>\n",
       "      <th>3P_R</th>\n",
       "    </tr>\n",
       "  </thead>\n",
       "  <tbody>\n",
       "    <tr>\n",
       "      <th>0</th>\n",
       "      <td>A.C. Green</td>\n",
       "      <td>PF</td>\n",
       "      <td>27</td>\n",
       "      <td>LAL</td>\n",
       "      <td>82</td>\n",
       "      <td>21</td>\n",
       "      <td>26.4</td>\n",
       "      <td>3.1</td>\n",
       "      <td>6.6</td>\n",
       "      <td>0.476</td>\n",
       "      <td>...</td>\n",
       "      <td>0.707</td>\n",
       "      <td>5.0</td>\n",
       "      <td>106.3</td>\n",
       "      <td>99.6</td>\n",
       "      <td>6.73</td>\n",
       "      <td>1.013334</td>\n",
       "      <td>0.420714</td>\n",
       "      <td>0.961127</td>\n",
       "      <td>0.673469</td>\n",
       "      <td>0.508587</td>\n",
       "    </tr>\n",
       "    <tr>\n",
       "      <th>1</th>\n",
       "      <td>Byron Scott</td>\n",
       "      <td>SG</td>\n",
       "      <td>29</td>\n",
       "      <td>LAL</td>\n",
       "      <td>82</td>\n",
       "      <td>82</td>\n",
       "      <td>32.1</td>\n",
       "      <td>6.1</td>\n",
       "      <td>12.8</td>\n",
       "      <td>0.477</td>\n",
       "      <td>...</td>\n",
       "      <td>0.707</td>\n",
       "      <td>5.0</td>\n",
       "      <td>106.3</td>\n",
       "      <td>99.6</td>\n",
       "      <td>6.73</td>\n",
       "      <td>1.614653</td>\n",
       "      <td>1.028412</td>\n",
       "      <td>1.647646</td>\n",
       "      <td>0.673469</td>\n",
       "      <td>4.577279</td>\n",
       "    </tr>\n",
       "    <tr>\n",
       "      <th>2</th>\n",
       "      <td>Elden Campbell</td>\n",
       "      <td>PF</td>\n",
       "      <td>22</td>\n",
       "      <td>LAL</td>\n",
       "      <td>52</td>\n",
       "      <td>0</td>\n",
       "      <td>7.3</td>\n",
       "      <td>1.1</td>\n",
       "      <td>2.4</td>\n",
       "      <td>0.455</td>\n",
       "      <td>...</td>\n",
       "      <td>0.707</td>\n",
       "      <td>5.0</td>\n",
       "      <td>106.3</td>\n",
       "      <td>99.6</td>\n",
       "      <td>6.73</td>\n",
       "      <td>0.311795</td>\n",
       "      <td>0.093492</td>\n",
       "      <td>0.274608</td>\n",
       "      <td>1.571429</td>\n",
       "      <td>0.000000</td>\n",
       "    </tr>\n",
       "    <tr>\n",
       "      <th>3</th>\n",
       "      <td>Irving Thomas</td>\n",
       "      <td>PF</td>\n",
       "      <td>25</td>\n",
       "      <td>LAL</td>\n",
       "      <td>26</td>\n",
       "      <td>0</td>\n",
       "      <td>4.2</td>\n",
       "      <td>0.7</td>\n",
       "      <td>1.9</td>\n",
       "      <td>0.340</td>\n",
       "      <td>...</td>\n",
       "      <td>0.707</td>\n",
       "      <td>5.0</td>\n",
       "      <td>106.3</td>\n",
       "      <td>99.6</td>\n",
       "      <td>6.73</td>\n",
       "      <td>0.200440</td>\n",
       "      <td>0.186984</td>\n",
       "      <td>0.274608</td>\n",
       "      <td>0.000000</td>\n",
       "      <td>0.000000</td>\n",
       "    </tr>\n",
       "    <tr>\n",
       "      <th>4</th>\n",
       "      <td>James Worthy</td>\n",
       "      <td>SF</td>\n",
       "      <td>29</td>\n",
       "      <td>LAL</td>\n",
       "      <td>78</td>\n",
       "      <td>74</td>\n",
       "      <td>38.6</td>\n",
       "      <td>9.2</td>\n",
       "      <td>18.7</td>\n",
       "      <td>0.492</td>\n",
       "      <td>...</td>\n",
       "      <td>0.707</td>\n",
       "      <td>5.0</td>\n",
       "      <td>106.3</td>\n",
       "      <td>99.6</td>\n",
       "      <td>6.73</td>\n",
       "      <td>2.383005</td>\n",
       "      <td>1.636110</td>\n",
       "      <td>1.784950</td>\n",
       "      <td>0.897959</td>\n",
       "      <td>1.525760</td>\n",
       "    </tr>\n",
       "  </tbody>\n",
       "</table>\n",
       "<p>5 rows × 46 columns</p>\n",
       "</div>"
      ],
      "text/plain": [
       "           Player Pos  Age   Tm   G  GS    MP   FG   FGA    FG%  ...   W/L%  \\\n",
       "0      A.C. Green  PF   27  LAL  82  21  26.4  3.1   6.6  0.476  ...  0.707   \n",
       "1     Byron Scott  SG   29  LAL  82  82  32.1  6.1  12.8  0.477  ...  0.707   \n",
       "2  Elden Campbell  PF   22  LAL  52   0   7.3  1.1   2.4  0.455  ...  0.707   \n",
       "3   Irving Thomas  PF   25  LAL  26   0   4.2  0.7   1.9  0.340  ...  0.707   \n",
       "4    James Worthy  SF   29  LAL  78  74  38.6  9.2  18.7  0.492  ...  0.707   \n",
       "\n",
       "    GB   PS/G  PA/G   SRS     PTS_T     AST_R     STL_R     BLK_R      3P_R  \n",
       "0  5.0  106.3  99.6  6.73  1.013334  0.420714  0.961127  0.673469  0.508587  \n",
       "1  5.0  106.3  99.6  6.73  1.614653  1.028412  1.647646  0.673469  4.577279  \n",
       "2  5.0  106.3  99.6  6.73  0.311795  0.093492  0.274608  1.571429  0.000000  \n",
       "3  5.0  106.3  99.6  6.73  0.200440  0.186984  0.274608  0.000000  0.000000  \n",
       "4  5.0  106.3  99.6  6.73  2.383005  1.636110  1.784950  0.897959  1.525760  \n",
       "\n",
       "[5 rows x 46 columns]"
      ]
     },
     "execution_count": 74,
     "metadata": {},
     "output_type": "execute_result"
    }
   ],
   "source": [
    "stats.head()"
   ]
  },
  {
   "cell_type": "code",
   "execution_count": 75,
   "id": "983a8fcf-f9c3-4570-adbc-f837f89e7b26",
   "metadata": {
    "tags": []
   },
   "outputs": [],
   "source": [
    "predictors += [\"PTS_T\", \"AST_R\", \"STL_R\", \"BLK_R\", \"3P_R\"]"
   ]
  },
  {
   "cell_type": "code",
   "execution_count": 76,
   "id": "a0edc632-6866-4c31-b9d4-6396f1697862",
   "metadata": {
    "tags": []
   },
   "outputs": [],
   "source": [
    "mean_ap, aps, all_predictions = backtest(stats, reg, years[5:], predictors)"
   ]
  },
  {
   "cell_type": "code",
   "execution_count": 77,
   "id": "2aed7d57-20e9-48e2-a649-4289ed8927e2",
   "metadata": {
    "tags": []
   },
   "outputs": [
    {
     "data": {
      "text/plain": [
       "0.726619022474594"
      ]
     },
     "execution_count": 77,
     "metadata": {},
     "output_type": "execute_result"
    }
   ],
   "source": [
    "mean_ap"
   ]
  },
  {
   "cell_type": "code",
   "execution_count": 78,
   "id": "d51ffa83-d9ca-46c4-8422-eb6f0c467eae",
   "metadata": {
    "tags": []
   },
   "outputs": [],
   "source": [
    "stats[\"NPos\"] = stats[\"Pos\"].astype(\"category\").cat.codes"
   ]
  },
  {
   "cell_type": "code",
   "execution_count": 83,
   "id": "f2c2d78b-6df1-468b-8a30-35901afd7b6f",
   "metadata": {
    "tags": []
   },
   "outputs": [
    {
     "data": {
      "text/plain": [
       "array(['PF', 'SG', 'SF', 'PG', 'C', 'PG-SG', 'PF-SF', 'SG-PG', 'PF-C',\n",
       "       'SG-SF', 'SF-PF', 'SF-SG', 'C-PF', 'SG-PF', 'PG-SF', 'SG-PG-SF',\n",
       "       'SF-C'], dtype=object)"
      ]
     },
     "execution_count": 83,
     "metadata": {},
     "output_type": "execute_result"
    }
   ],
   "source": [
    "stats[\"Pos\"].unique()"
   ]
  },
  {
   "cell_type": "code",
   "execution_count": 82,
   "id": "c2b53414-8114-40fb-9d07-9a6cdf2cc4f1",
   "metadata": {
    "tags": []
   },
   "outputs": [],
   "source": [
    "stats[\"NTm\"] = stats[\"Tm\"].astype(\"category\").cat.codes"
   ]
  },
  {
   "cell_type": "code",
   "execution_count": 84,
   "id": "eec01f82-c6f1-4357-a841-29cbe4a3c3e4",
   "metadata": {
    "tags": []
   },
   "outputs": [],
   "source": [
    "from sklearn.ensemble import RandomForestRegressor\n",
    "\n",
    "rf = RandomForestRegressor(n_estimators=50, random_state=1, min_samples_split=5)\n",
    "\n",
    "mean_ap, aps, all_predictions = backtest(stats, rf, years[28:], predictors)"
   ]
  },
  {
   "cell_type": "code",
   "execution_count": 85,
   "id": "81e55b93-7605-4106-8713-fe05e47aae7a",
   "metadata": {
    "tags": []
   },
   "outputs": [
    {
     "data": {
      "text/plain": [
       "0.7479028168624604"
      ]
     },
     "execution_count": 85,
     "metadata": {},
     "output_type": "execute_result"
    }
   ],
   "source": [
    "mean_ap"
   ]
  },
  {
   "cell_type": "code",
   "execution_count": 86,
   "id": "5c328563-6de1-4bf9-939c-28c83212156d",
   "metadata": {
    "tags": []
   },
   "outputs": [],
   "source": [
    "mean_ap, aps, all_predictions = backtest(stats, reg, years[28:], predictors)"
   ]
  },
  {
   "cell_type": "code",
   "execution_count": 87,
   "id": "375d0f6f-201a-407b-9427-6678adef152f",
   "metadata": {
    "tags": []
   },
   "outputs": [
    {
     "data": {
      "text/plain": [
       "0.726619022474594"
      ]
     },
     "execution_count": 87,
     "metadata": {},
     "output_type": "execute_result"
    }
   ],
   "source": [
    "mean_ap"
   ]
  },
  {
   "cell_type": "code",
   "execution_count": null,
   "id": "bf6a49d4-f36a-4d66-a43a-ab553802faa1",
   "metadata": {},
   "outputs": [],
   "source": []
  }
 ],
 "metadata": {
  "kernelspec": {
   "display_name": "Python 3 (ipykernel)",
   "language": "python",
   "name": "python3"
  },
  "language_info": {
   "codemirror_mode": {
    "name": "ipython",
    "version": 3
   },
   "file_extension": ".py",
   "mimetype": "text/x-python",
   "name": "python",
   "nbconvert_exporter": "python",
   "pygments_lexer": "ipython3",
   "version": "3.11.4"
  }
 },
 "nbformat": 4,
 "nbformat_minor": 5
}
